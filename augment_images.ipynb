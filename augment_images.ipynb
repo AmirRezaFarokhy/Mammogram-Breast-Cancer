{
 "cells": [
  {
   "cell_type": "code",
   "execution_count": 1,
   "id": "7338e7fb-5184-49aa-9c91-c21dc1918ba8",
   "metadata": {},
   "outputs": [],
   "source": [
    "# This script aims to create augmented images from one image to create a larger dataset for our cnn model\n",
    "# The augmentation this script will perform on each object is \n",
    "# orig_img,grayscaled_image,random_rotation_transformation_45_image,random_rotation_transformation_65_image,random_rotation_transformation_85_image,gausian_blurred_image_13_image,gausian_blurred_image_56_image,gausian_image_3,gausian_image_6,gausian_image_9,colour_jitter_image_1,colour_jitter_image_2,colour_jitter_image_3\n",
    "\n",
    "#call the function creating file with augmented image give path of dataset and path of folder where you want the augmented images to be stored\n",
    "\n",
    "import PIL\n",
    "import torch \n",
    "from PIL import Image\n",
    "from pathlib import Path\n",
    "import matplotlib.pyplot as plt\n",
    "import numpy as np\n",
    "import sys\n",
    "import torchvision.transforms as T\n",
    "import os"
   ]
  },
  {
   "cell_type": "code",
   "execution_count": 13,
   "id": "3e8cd7b7-9919-45b8-af86-5793972f5abe",
   "metadata": {},
   "outputs": [],
   "source": [
    "def addnoise(input_image, noise_factor = 0.3):\n",
    "    inputs = T.ToTensor()(input_image)\n",
    "    noisy = inputs + torch.rand_like(inputs) * noise_factor\n",
    "    noisy = torch.clip (noisy,0,1.)\n",
    "    output_image = T.ToPILImage()\n",
    "    image = output_image(noisy)\n",
    "    return image\n",
    "\n",
    "#random rotation\n",
    "random_rotation_transformation_45 = T.RandomRotation(45)\n",
    "\n",
    "#Colour Jitter\n",
    "colour_jitter_transformation = T.ColorJitter(brightness=0.2,contrast=0.2,saturation=0.2,hue=0.1)\n",
    "\n",
    "#Random horizental_flip\n",
    "random_horizontal_flip = T.RandomHorizontalFlip(p=0.9)\n",
    "\n",
    "random_vertical_flip = T.RandomVerticalFlip(p=0.9)\n",
    "\n",
    "def augment_image(img_path):\n",
    "\n",
    "    #orig_image\n",
    "    orig_img = Image.open(Path(img_path))\n",
    "\n",
    "    #random rotation\n",
    "    random_rotation_transformation_45_image=random_rotation_transformation_45(orig_img)\n",
    "    \n",
    "    #Gausian Noise\n",
    "    gausian_image = addnoise(orig_img)\n",
    "\n",
    "    #Color Jitter\n",
    "    colour_jitter_image = colour_jitter_transformation(orig_img)\n",
    "    #colour_jitter_image_1.show()\n",
    "\n",
    "    random_horizontal_flip_image = random_horizontal_flip(orig_img)\n",
    "    \n",
    "    random_vertical_flip_image = random_vertical_flip(orig_img)\n",
    "\n",
    "    return [random_rotation_transformation_45_image, gausian_image, colour_jitter_image, random_horizontal_flip_image, random_vertical_flip_image]\n",
    "\n",
    "#augmented_images = augment_image(orig_img_path)\n",
    "\n",
    "def creating_file_with_augmented_images(file_path_master_dataset,augmented_images_folder):\n",
    "    \n",
    "    master_dataset_folder = file_path_master_dataset\n",
    "    files_in_master_dataset = os.listdir(file_path_master_dataset)\n",
    "    \n",
    "    counter=0\n",
    "    \n",
    "    for element in files_in_master_dataset:\n",
    "        os.mkdir(f\"{augmented_images_folder}/{element}\")\n",
    "        images_in_folder= os.listdir(f\"{master_dataset_folder}/{element}\")\n",
    "        counter = counter+1\n",
    "        counter2 = 0\n",
    "        for image in images_in_folder:\n",
    "            counter\n",
    "            required_images = augment_image(f\"{master_dataset_folder}/{element}/{image}\")\n",
    "            counter2=counter2+1\n",
    "            counter3 = 0\n",
    "            for augmented_image in required_images:\n",
    "                counter3 = counter3 +1\n",
    "                augmented_image = augmented_image.save(f\"{augmented_images_folder}/{element}/{counter}_{counter2}_{counter3}_{image}\")\n"
   ]
  },
  {
   "cell_type": "code",
   "execution_count": 14,
   "id": "e37cd398-7d5d-4259-90a0-a7b83d3f6d6d",
   "metadata": {},
   "outputs": [],
   "source": [
    "images = augment_image(\"/home/nextory/PycharmProjects/pytorch-image-models/rsna-mammography-images-as-pngs/Breast_Cancer/working/train/1/1863446.png\")\n",
    "\n",
    "for element in images:\n",
    "    element.show()"
   ]
  },
  {
   "cell_type": "code",
   "execution_count": null,
   "id": "2a9f074b-98fe-4e79-be38-118e6c62b297",
   "metadata": {},
   "outputs": [],
   "source": [
    "#augmented dataset path\n",
    "source_dataset = \"/home/nextory/PycharmProjects/pytorch-image-models/rsna-mammography-images-as-pngs/Breast_Cancer/working/train/1\"\n",
    "\n",
    "# master dataset path\n",
    "augmented_dataset = \"/home/nextory/PycharmProjects/pytorch-image-models/rsna-mammography-images-as-pngs/Breast_Cancer/working/augmented\"\n",
    "\n",
    "# run the program\n",
    "\n",
    "creating_file_with_augmented_images(source_dataset,augmented_dataset)"
   ]
  },
  {
   "cell_type": "code",
   "execution_count": null,
   "id": "0a4149fd-b2ab-4ca0-b329-a45ce8db4ff8",
   "metadata": {},
   "outputs": [],
   "source": []
  }
 ],
 "metadata": {
  "kernelspec": {
   "display_name": "Python 3 (ipykernel)",
   "language": "python",
   "name": "python3"
  },
  "language_info": {
   "codemirror_mode": {
    "name": "ipython",
    "version": 3
   },
   "file_extension": ".py",
   "mimetype": "text/x-python",
   "name": "python",
   "nbconvert_exporter": "python",
   "pygments_lexer": "ipython3",
   "version": "3.10.12"
  }
 },
 "nbformat": 4,
 "nbformat_minor": 5
}
