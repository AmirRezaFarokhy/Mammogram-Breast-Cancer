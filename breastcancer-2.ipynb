{
 "cells": [
  {
   "cell_type": "code",
   "execution_count": 74,
   "metadata": {},
   "outputs": [],
   "source": [
    "import pandas as pd  # for data manipulation and analysis\n",
    "import numpy as np  # for numerical operations\n",
    "import cv2  # openCvfor computer vision tasks\n",
    "from PIL import Image\n",
    "import PIL  # python imaging library for image processing\n",
    "import matplotlib.pyplot as plt  # for creating plots and visualisations\n",
    "import seaborn as sns  # statistical data visualization\n",
    "import random  # for generating random numbers\n",
    "import os  # for interacting with operating system\n",
    "# get_ipython().run_line_magic('matplotlib', 'inline')\n",
    "import os\n",
    "os.environ['TF_CPP_MIN_LOG_LEVEL'] = '3' \n",
    "import tensorflow as tf\n",
    "from sklearn.metrics import confusion_matrix\n",
    "from keras.utils import to_categorical\n",
    "from sklearn.model_selection import train_test_split\n",
    "from tensorflow.keras.models import load_model\n",
    "import time\n",
    "from concurrent.futures import ThreadPoolExecutor\n",
    "# Display some images\n",
    "import matplotlib.image as mpimg\n",
    "\n",
    "from tensorflow.keras.models import Sequential\n",
    "from tensorflow.keras.layers import Conv2D, MaxPooling2D, Flatten, Dense, Dropout\n",
    "from tensorflow.keras.callbacks import EarlyStopping"
   ]
  },
  {
   "cell_type": "code",
   "execution_count": null,
   "metadata": {},
   "outputs": [],
   "source": []
  },
  {
   "cell_type": "markdown",
   "metadata": {},
   "source": [
    "set seed for reproducibility"
   ]
  },
  {
   "cell_type": "code",
   "execution_count": 2,
   "metadata": {},
   "outputs": [],
   "source": [
    "random.seed(100)\n",
    "np.random.seed(100)"
   ]
  },
  {
   "cell_type": "code",
   "execution_count": 3,
   "metadata": {},
   "outputs": [],
   "source": [
    "dicom_data = pd.read_csv('input/csv/dicom_info.csv')"
   ]
  },
  {
   "cell_type": "code",
   "execution_count": 4,
   "metadata": {},
   "outputs": [
    {
     "data": {
      "text/html": [
       "<div>\n",
       "<style scoped>\n",
       "    .dataframe tbody tr th:only-of-type {\n",
       "        vertical-align: middle;\n",
       "    }\n",
       "\n",
       "    .dataframe tbody tr th {\n",
       "        vertical-align: top;\n",
       "    }\n",
       "\n",
       "    .dataframe thead th {\n",
       "        text-align: right;\n",
       "    }\n",
       "</style>\n",
       "<table border=\"1\" class=\"dataframe\">\n",
       "  <thead>\n",
       "    <tr style=\"text-align: right;\">\n",
       "      <th></th>\n",
       "      <th>file_path</th>\n",
       "      <th>image_path</th>\n",
       "      <th>AccessionNumber</th>\n",
       "      <th>BitsAllocated</th>\n",
       "      <th>BitsStored</th>\n",
       "      <th>BodyPartExamined</th>\n",
       "      <th>Columns</th>\n",
       "      <th>ContentDate</th>\n",
       "      <th>ContentTime</th>\n",
       "      <th>ConversionType</th>\n",
       "      <th>...</th>\n",
       "      <th>SecondaryCaptureDeviceManufacturerModelName</th>\n",
       "      <th>SeriesDescription</th>\n",
       "      <th>SeriesInstanceUID</th>\n",
       "      <th>SeriesNumber</th>\n",
       "      <th>SmallestImagePixelValue</th>\n",
       "      <th>SpecificCharacterSet</th>\n",
       "      <th>StudyDate</th>\n",
       "      <th>StudyID</th>\n",
       "      <th>StudyInstanceUID</th>\n",
       "      <th>StudyTime</th>\n",
       "    </tr>\n",
       "  </thead>\n",
       "  <tbody>\n",
       "    <tr>\n",
       "      <th>0</th>\n",
       "      <td>CBIS-DDSM/dicom/1.3.6.1.4.1.9590.100.1.2.12930...</td>\n",
       "      <td>CBIS-DDSM/jpeg/1.3.6.1.4.1.9590.100.1.2.129308...</td>\n",
       "      <td>NaN</td>\n",
       "      <td>16</td>\n",
       "      <td>16</td>\n",
       "      <td>BREAST</td>\n",
       "      <td>351</td>\n",
       "      <td>20160426</td>\n",
       "      <td>131732.685</td>\n",
       "      <td>WSD</td>\n",
       "      <td>...</td>\n",
       "      <td>MATLAB</td>\n",
       "      <td>cropped images</td>\n",
       "      <td>1.3.6.1.4.1.9590.100.1.2.129308726812851964007...</td>\n",
       "      <td>1</td>\n",
       "      <td>23078</td>\n",
       "      <td>ISO_IR 100</td>\n",
       "      <td>20160720.0</td>\n",
       "      <td>DDSM</td>\n",
       "      <td>1.3.6.1.4.1.9590.100.1.2.271867287611061855725...</td>\n",
       "      <td>214951.0</td>\n",
       "    </tr>\n",
       "    <tr>\n",
       "      <th>1</th>\n",
       "      <td>CBIS-DDSM/dicom/1.3.6.1.4.1.9590.100.1.2.24838...</td>\n",
       "      <td>CBIS-DDSM/jpeg/1.3.6.1.4.1.9590.100.1.2.248386...</td>\n",
       "      <td>NaN</td>\n",
       "      <td>16</td>\n",
       "      <td>16</td>\n",
       "      <td>BREAST</td>\n",
       "      <td>3526</td>\n",
       "      <td>20160426</td>\n",
       "      <td>143829.101</td>\n",
       "      <td>WSD</td>\n",
       "      <td>...</td>\n",
       "      <td>MATLAB</td>\n",
       "      <td>full mammogram images</td>\n",
       "      <td>1.3.6.1.4.1.9590.100.1.2.248386742010678582309...</td>\n",
       "      <td>1</td>\n",
       "      <td>0</td>\n",
       "      <td>ISO_IR 100</td>\n",
       "      <td>20160720.0</td>\n",
       "      <td>DDSM</td>\n",
       "      <td>1.3.6.1.4.1.9590.100.1.2.161516517311681906612...</td>\n",
       "      <td>193426.0</td>\n",
       "    </tr>\n",
       "    <tr>\n",
       "      <th>2</th>\n",
       "      <td>CBIS-DDSM/dicom/1.3.6.1.4.1.9590.100.1.2.26721...</td>\n",
       "      <td>CBIS-DDSM/jpeg/1.3.6.1.4.1.9590.100.1.2.267213...</td>\n",
       "      <td>NaN</td>\n",
       "      <td>16</td>\n",
       "      <td>16</td>\n",
       "      <td>BREAST</td>\n",
       "      <td>1546</td>\n",
       "      <td>20160503</td>\n",
       "      <td>111956.298</td>\n",
       "      <td>WSD</td>\n",
       "      <td>...</td>\n",
       "      <td>MATLAB</td>\n",
       "      <td>full mammogram images</td>\n",
       "      <td>1.3.6.1.4.1.9590.100.1.2.267213171011171858918...</td>\n",
       "      <td>1</td>\n",
       "      <td>0</td>\n",
       "      <td>ISO_IR 100</td>\n",
       "      <td>20160807.0</td>\n",
       "      <td>DDSM</td>\n",
       "      <td>1.3.6.1.4.1.9590.100.1.2.291043622711253836701...</td>\n",
       "      <td>161814.0</td>\n",
       "    </tr>\n",
       "    <tr>\n",
       "      <th>3</th>\n",
       "      <td>CBIS-DDSM/dicom/1.3.6.1.4.1.9590.100.1.2.38118...</td>\n",
       "      <td>CBIS-DDSM/jpeg/1.3.6.1.4.1.9590.100.1.2.381187...</td>\n",
       "      <td>NaN</td>\n",
       "      <td>16</td>\n",
       "      <td>16</td>\n",
       "      <td>BREAST</td>\n",
       "      <td>97</td>\n",
       "      <td>20160503</td>\n",
       "      <td>115347.770</td>\n",
       "      <td>WSD</td>\n",
       "      <td>...</td>\n",
       "      <td>MATLAB</td>\n",
       "      <td>cropped images</td>\n",
       "      <td>1.3.6.1.4.1.9590.100.1.2.381187369611524586537...</td>\n",
       "      <td>1</td>\n",
       "      <td>32298</td>\n",
       "      <td>ISO_IR 100</td>\n",
       "      <td>20170829.0</td>\n",
       "      <td>DDSM</td>\n",
       "      <td>1.3.6.1.4.1.9590.100.1.2.335006093711888937440...</td>\n",
       "      <td>180109.0</td>\n",
       "    </tr>\n",
       "    <tr>\n",
       "      <th>4</th>\n",
       "      <td>CBIS-DDSM/dicom/1.3.6.1.4.1.9590.100.1.2.38118...</td>\n",
       "      <td>CBIS-DDSM/jpeg/1.3.6.1.4.1.9590.100.1.2.381187...</td>\n",
       "      <td>NaN</td>\n",
       "      <td>8</td>\n",
       "      <td>8</td>\n",
       "      <td>Left Breast</td>\n",
       "      <td>3104</td>\n",
       "      <td>20160503</td>\n",
       "      <td>115347.770</td>\n",
       "      <td>WSD</td>\n",
       "      <td>...</td>\n",
       "      <td>MATLAB</td>\n",
       "      <td>NaN</td>\n",
       "      <td>1.3.6.1.4.1.9590.100.1.2.381187369611524586537...</td>\n",
       "      <td>1</td>\n",
       "      <td>0</td>\n",
       "      <td>ISO_IR 100</td>\n",
       "      <td>NaN</td>\n",
       "      <td>DDSM</td>\n",
       "      <td>1.3.6.1.4.1.9590.100.1.2.335006093711888937440...</td>\n",
       "      <td>NaN</td>\n",
       "    </tr>\n",
       "  </tbody>\n",
       "</table>\n",
       "<p>5 rows × 38 columns</p>\n",
       "</div>"
      ],
      "text/plain": [
       "                                           file_path  \\\n",
       "0  CBIS-DDSM/dicom/1.3.6.1.4.1.9590.100.1.2.12930...   \n",
       "1  CBIS-DDSM/dicom/1.3.6.1.4.1.9590.100.1.2.24838...   \n",
       "2  CBIS-DDSM/dicom/1.3.6.1.4.1.9590.100.1.2.26721...   \n",
       "3  CBIS-DDSM/dicom/1.3.6.1.4.1.9590.100.1.2.38118...   \n",
       "4  CBIS-DDSM/dicom/1.3.6.1.4.1.9590.100.1.2.38118...   \n",
       "\n",
       "                                          image_path  AccessionNumber  \\\n",
       "0  CBIS-DDSM/jpeg/1.3.6.1.4.1.9590.100.1.2.129308...              NaN   \n",
       "1  CBIS-DDSM/jpeg/1.3.6.1.4.1.9590.100.1.2.248386...              NaN   \n",
       "2  CBIS-DDSM/jpeg/1.3.6.1.4.1.9590.100.1.2.267213...              NaN   \n",
       "3  CBIS-DDSM/jpeg/1.3.6.1.4.1.9590.100.1.2.381187...              NaN   \n",
       "4  CBIS-DDSM/jpeg/1.3.6.1.4.1.9590.100.1.2.381187...              NaN   \n",
       "\n",
       "   BitsAllocated  BitsStored BodyPartExamined  Columns  ContentDate  \\\n",
       "0             16          16           BREAST      351     20160426   \n",
       "1             16          16           BREAST     3526     20160426   \n",
       "2             16          16           BREAST     1546     20160503   \n",
       "3             16          16           BREAST       97     20160503   \n",
       "4              8           8      Left Breast     3104     20160503   \n",
       "\n",
       "   ContentTime ConversionType  ...  \\\n",
       "0   131732.685            WSD  ...   \n",
       "1   143829.101            WSD  ...   \n",
       "2   111956.298            WSD  ...   \n",
       "3   115347.770            WSD  ...   \n",
       "4   115347.770            WSD  ...   \n",
       "\n",
       "   SecondaryCaptureDeviceManufacturerModelName      SeriesDescription  \\\n",
       "0                                       MATLAB         cropped images   \n",
       "1                                       MATLAB  full mammogram images   \n",
       "2                                       MATLAB  full mammogram images   \n",
       "3                                       MATLAB         cropped images   \n",
       "4                                       MATLAB                    NaN   \n",
       "\n",
       "                                   SeriesInstanceUID SeriesNumber  \\\n",
       "0  1.3.6.1.4.1.9590.100.1.2.129308726812851964007...            1   \n",
       "1  1.3.6.1.4.1.9590.100.1.2.248386742010678582309...            1   \n",
       "2  1.3.6.1.4.1.9590.100.1.2.267213171011171858918...            1   \n",
       "3  1.3.6.1.4.1.9590.100.1.2.381187369611524586537...            1   \n",
       "4  1.3.6.1.4.1.9590.100.1.2.381187369611524586537...            1   \n",
       "\n",
       "  SmallestImagePixelValue  SpecificCharacterSet   StudyDate StudyID  \\\n",
       "0                   23078            ISO_IR 100  20160720.0    DDSM   \n",
       "1                       0            ISO_IR 100  20160720.0    DDSM   \n",
       "2                       0            ISO_IR 100  20160807.0    DDSM   \n",
       "3                   32298            ISO_IR 100  20170829.0    DDSM   \n",
       "4                       0            ISO_IR 100         NaN    DDSM   \n",
       "\n",
       "                                    StudyInstanceUID  StudyTime  \n",
       "0  1.3.6.1.4.1.9590.100.1.2.271867287611061855725...   214951.0  \n",
       "1  1.3.6.1.4.1.9590.100.1.2.161516517311681906612...   193426.0  \n",
       "2  1.3.6.1.4.1.9590.100.1.2.291043622711253836701...   161814.0  \n",
       "3  1.3.6.1.4.1.9590.100.1.2.335006093711888937440...   180109.0  \n",
       "4  1.3.6.1.4.1.9590.100.1.2.335006093711888937440...        NaN  \n",
       "\n",
       "[5 rows x 38 columns]"
      ]
     },
     "execution_count": 4,
     "metadata": {},
     "output_type": "execute_result"
    }
   ],
   "source": [
    "dicom_data.head()"
   ]
  },
  {
   "cell_type": "markdown",
   "metadata": {},
   "source": [
    "Filter 'dicom_data' DataFrame to select rows where 'SeriesDescription' is 'cropped images'"
   ]
  },
  {
   "cell_type": "code",
   "execution_count": 5,
   "metadata": {},
   "outputs": [],
   "source": [
    "cropped_images = dicom_data.loc[dicom_data[\"SeriesDescription\"] == 'cropped images'][\"image_path\"]"
   ]
  },
  {
   "cell_type": "markdown",
   "metadata": {},
   "source": [
    "Set the directory path for JPEG images"
   ]
  },
  {
   "cell_type": "code",
   "execution_count": 6,
   "metadata": {},
   "outputs": [],
   "source": [
    "image_dir = 'input/jpeg'"
   ]
  },
  {
   "cell_type": "code",
   "execution_count": 7,
   "metadata": {},
   "outputs": [],
   "source": [
    "cropped_images = cropped_images.apply(lambda x: x.replace('CBIS-DDSM/jpeg', image_dir))"
   ]
  },
  {
   "cell_type": "code",
   "execution_count": 8,
   "metadata": {},
   "outputs": [],
   "source": [
    "full_mammogram_images = dicom_data[dicom_data.SeriesDescription == 'full mammogram images'].image_path\n",
    "full_mammogram_images = full_mammogram_images.apply(lambda x: x.replace('CBIS-DDSM/jpeg', image_dir))"
   ]
  },
  {
   "cell_type": "code",
   "execution_count": 9,
   "metadata": {},
   "outputs": [],
   "source": [
    "ROI_mask_images = dicom_data[dicom_data.SeriesDescription == 'ROI mask images'].image_path\n",
    "ROI_mask_images = ROI_mask_images.apply(lambda x: x.replace('CBIS-DDSM/jpeg', image_dir))"
   ]
  },
  {
   "cell_type": "code",
   "execution_count": 10,
   "metadata": {},
   "outputs": [],
   "source": [
    "mass_case_df = pd.read_csv(\"input/csv/mass_case_description_train_set.csv\")\n",
    "# Read CSV files into DataFrames\n",
    "mass_case_test_df = pd.read_csv('input/csv/mass_case_description_test_set.csv')"
   ]
  },
  {
   "cell_type": "markdown",
   "metadata": {},
   "source": [
    "**Data cleaning**"
   ]
  },
  {
   "cell_type": "code",
   "execution_count": 11,
   "metadata": {},
   "outputs": [
    {
     "data": {
      "text/html": [
       "<div>\n",
       "<style scoped>\n",
       "    .dataframe tbody tr th:only-of-type {\n",
       "        vertical-align: middle;\n",
       "    }\n",
       "\n",
       "    .dataframe tbody tr th {\n",
       "        vertical-align: top;\n",
       "    }\n",
       "\n",
       "    .dataframe thead th {\n",
       "        text-align: right;\n",
       "    }\n",
       "</style>\n",
       "<table border=\"1\" class=\"dataframe\">\n",
       "  <thead>\n",
       "    <tr style=\"text-align: right;\">\n",
       "      <th></th>\n",
       "      <th>file_path</th>\n",
       "      <th>image_path</th>\n",
       "      <th>AccessionNumber</th>\n",
       "      <th>BitsAllocated</th>\n",
       "      <th>BitsStored</th>\n",
       "      <th>BodyPartExamined</th>\n",
       "      <th>Columns</th>\n",
       "      <th>ContentDate</th>\n",
       "      <th>ContentTime</th>\n",
       "      <th>ConversionType</th>\n",
       "      <th>...</th>\n",
       "      <th>SecondaryCaptureDeviceManufacturerModelName</th>\n",
       "      <th>SeriesDescription</th>\n",
       "      <th>SeriesInstanceUID</th>\n",
       "      <th>SeriesNumber</th>\n",
       "      <th>SmallestImagePixelValue</th>\n",
       "      <th>SpecificCharacterSet</th>\n",
       "      <th>StudyDate</th>\n",
       "      <th>StudyID</th>\n",
       "      <th>StudyInstanceUID</th>\n",
       "      <th>StudyTime</th>\n",
       "    </tr>\n",
       "  </thead>\n",
       "  <tbody>\n",
       "    <tr>\n",
       "      <th>0</th>\n",
       "      <td>CBIS-DDSM/dicom/1.3.6.1.4.1.9590.100.1.2.12930...</td>\n",
       "      <td>CBIS-DDSM/jpeg/1.3.6.1.4.1.9590.100.1.2.129308...</td>\n",
       "      <td>NaN</td>\n",
       "      <td>16</td>\n",
       "      <td>16</td>\n",
       "      <td>BREAST</td>\n",
       "      <td>351</td>\n",
       "      <td>20160426</td>\n",
       "      <td>131732.685</td>\n",
       "      <td>WSD</td>\n",
       "      <td>...</td>\n",
       "      <td>MATLAB</td>\n",
       "      <td>cropped images</td>\n",
       "      <td>1.3.6.1.4.1.9590.100.1.2.129308726812851964007...</td>\n",
       "      <td>1</td>\n",
       "      <td>23078</td>\n",
       "      <td>ISO_IR 100</td>\n",
       "      <td>20160720.0</td>\n",
       "      <td>DDSM</td>\n",
       "      <td>1.3.6.1.4.1.9590.100.1.2.271867287611061855725...</td>\n",
       "      <td>214951.0</td>\n",
       "    </tr>\n",
       "    <tr>\n",
       "      <th>1</th>\n",
       "      <td>CBIS-DDSM/dicom/1.3.6.1.4.1.9590.100.1.2.24838...</td>\n",
       "      <td>CBIS-DDSM/jpeg/1.3.6.1.4.1.9590.100.1.2.248386...</td>\n",
       "      <td>NaN</td>\n",
       "      <td>16</td>\n",
       "      <td>16</td>\n",
       "      <td>BREAST</td>\n",
       "      <td>3526</td>\n",
       "      <td>20160426</td>\n",
       "      <td>143829.101</td>\n",
       "      <td>WSD</td>\n",
       "      <td>...</td>\n",
       "      <td>MATLAB</td>\n",
       "      <td>full mammogram images</td>\n",
       "      <td>1.3.6.1.4.1.9590.100.1.2.248386742010678582309...</td>\n",
       "      <td>1</td>\n",
       "      <td>0</td>\n",
       "      <td>ISO_IR 100</td>\n",
       "      <td>20160720.0</td>\n",
       "      <td>DDSM</td>\n",
       "      <td>1.3.6.1.4.1.9590.100.1.2.161516517311681906612...</td>\n",
       "      <td>193426.0</td>\n",
       "    </tr>\n",
       "    <tr>\n",
       "      <th>2</th>\n",
       "      <td>CBIS-DDSM/dicom/1.3.6.1.4.1.9590.100.1.2.26721...</td>\n",
       "      <td>CBIS-DDSM/jpeg/1.3.6.1.4.1.9590.100.1.2.267213...</td>\n",
       "      <td>NaN</td>\n",
       "      <td>16</td>\n",
       "      <td>16</td>\n",
       "      <td>BREAST</td>\n",
       "      <td>1546</td>\n",
       "      <td>20160503</td>\n",
       "      <td>111956.298</td>\n",
       "      <td>WSD</td>\n",
       "      <td>...</td>\n",
       "      <td>MATLAB</td>\n",
       "      <td>full mammogram images</td>\n",
       "      <td>1.3.6.1.4.1.9590.100.1.2.267213171011171858918...</td>\n",
       "      <td>1</td>\n",
       "      <td>0</td>\n",
       "      <td>ISO_IR 100</td>\n",
       "      <td>20160807.0</td>\n",
       "      <td>DDSM</td>\n",
       "      <td>1.3.6.1.4.1.9590.100.1.2.291043622711253836701...</td>\n",
       "      <td>161814.0</td>\n",
       "    </tr>\n",
       "    <tr>\n",
       "      <th>3</th>\n",
       "      <td>CBIS-DDSM/dicom/1.3.6.1.4.1.9590.100.1.2.38118...</td>\n",
       "      <td>CBIS-DDSM/jpeg/1.3.6.1.4.1.9590.100.1.2.381187...</td>\n",
       "      <td>NaN</td>\n",
       "      <td>16</td>\n",
       "      <td>16</td>\n",
       "      <td>BREAST</td>\n",
       "      <td>97</td>\n",
       "      <td>20160503</td>\n",
       "      <td>115347.770</td>\n",
       "      <td>WSD</td>\n",
       "      <td>...</td>\n",
       "      <td>MATLAB</td>\n",
       "      <td>cropped images</td>\n",
       "      <td>1.3.6.1.4.1.9590.100.1.2.381187369611524586537...</td>\n",
       "      <td>1</td>\n",
       "      <td>32298</td>\n",
       "      <td>ISO_IR 100</td>\n",
       "      <td>20170829.0</td>\n",
       "      <td>DDSM</td>\n",
       "      <td>1.3.6.1.4.1.9590.100.1.2.335006093711888937440...</td>\n",
       "      <td>180109.0</td>\n",
       "    </tr>\n",
       "    <tr>\n",
       "      <th>4</th>\n",
       "      <td>CBIS-DDSM/dicom/1.3.6.1.4.1.9590.100.1.2.38118...</td>\n",
       "      <td>CBIS-DDSM/jpeg/1.3.6.1.4.1.9590.100.1.2.381187...</td>\n",
       "      <td>NaN</td>\n",
       "      <td>8</td>\n",
       "      <td>8</td>\n",
       "      <td>Left Breast</td>\n",
       "      <td>3104</td>\n",
       "      <td>20160503</td>\n",
       "      <td>115347.770</td>\n",
       "      <td>WSD</td>\n",
       "      <td>...</td>\n",
       "      <td>MATLAB</td>\n",
       "      <td>NaN</td>\n",
       "      <td>1.3.6.1.4.1.9590.100.1.2.381187369611524586537...</td>\n",
       "      <td>1</td>\n",
       "      <td>0</td>\n",
       "      <td>ISO_IR 100</td>\n",
       "      <td>NaN</td>\n",
       "      <td>DDSM</td>\n",
       "      <td>1.3.6.1.4.1.9590.100.1.2.335006093711888937440...</td>\n",
       "      <td>NaN</td>\n",
       "    </tr>\n",
       "  </tbody>\n",
       "</table>\n",
       "<p>5 rows × 38 columns</p>\n",
       "</div>"
      ],
      "text/plain": [
       "                                           file_path  \\\n",
       "0  CBIS-DDSM/dicom/1.3.6.1.4.1.9590.100.1.2.12930...   \n",
       "1  CBIS-DDSM/dicom/1.3.6.1.4.1.9590.100.1.2.24838...   \n",
       "2  CBIS-DDSM/dicom/1.3.6.1.4.1.9590.100.1.2.26721...   \n",
       "3  CBIS-DDSM/dicom/1.3.6.1.4.1.9590.100.1.2.38118...   \n",
       "4  CBIS-DDSM/dicom/1.3.6.1.4.1.9590.100.1.2.38118...   \n",
       "\n",
       "                                          image_path  AccessionNumber  \\\n",
       "0  CBIS-DDSM/jpeg/1.3.6.1.4.1.9590.100.1.2.129308...              NaN   \n",
       "1  CBIS-DDSM/jpeg/1.3.6.1.4.1.9590.100.1.2.248386...              NaN   \n",
       "2  CBIS-DDSM/jpeg/1.3.6.1.4.1.9590.100.1.2.267213...              NaN   \n",
       "3  CBIS-DDSM/jpeg/1.3.6.1.4.1.9590.100.1.2.381187...              NaN   \n",
       "4  CBIS-DDSM/jpeg/1.3.6.1.4.1.9590.100.1.2.381187...              NaN   \n",
       "\n",
       "   BitsAllocated  BitsStored BodyPartExamined  Columns  ContentDate  \\\n",
       "0             16          16           BREAST      351     20160426   \n",
       "1             16          16           BREAST     3526     20160426   \n",
       "2             16          16           BREAST     1546     20160503   \n",
       "3             16          16           BREAST       97     20160503   \n",
       "4              8           8      Left Breast     3104     20160503   \n",
       "\n",
       "   ContentTime ConversionType  ...  \\\n",
       "0   131732.685            WSD  ...   \n",
       "1   143829.101            WSD  ...   \n",
       "2   111956.298            WSD  ...   \n",
       "3   115347.770            WSD  ...   \n",
       "4   115347.770            WSD  ...   \n",
       "\n",
       "   SecondaryCaptureDeviceManufacturerModelName      SeriesDescription  \\\n",
       "0                                       MATLAB         cropped images   \n",
       "1                                       MATLAB  full mammogram images   \n",
       "2                                       MATLAB  full mammogram images   \n",
       "3                                       MATLAB         cropped images   \n",
       "4                                       MATLAB                    NaN   \n",
       "\n",
       "                                   SeriesInstanceUID SeriesNumber  \\\n",
       "0  1.3.6.1.4.1.9590.100.1.2.129308726812851964007...            1   \n",
       "1  1.3.6.1.4.1.9590.100.1.2.248386742010678582309...            1   \n",
       "2  1.3.6.1.4.1.9590.100.1.2.267213171011171858918...            1   \n",
       "3  1.3.6.1.4.1.9590.100.1.2.381187369611524586537...            1   \n",
       "4  1.3.6.1.4.1.9590.100.1.2.381187369611524586537...            1   \n",
       "\n",
       "  SmallestImagePixelValue  SpecificCharacterSet   StudyDate StudyID  \\\n",
       "0                   23078            ISO_IR 100  20160720.0    DDSM   \n",
       "1                       0            ISO_IR 100  20160720.0    DDSM   \n",
       "2                       0            ISO_IR 100  20160807.0    DDSM   \n",
       "3                   32298            ISO_IR 100  20170829.0    DDSM   \n",
       "4                       0            ISO_IR 100         NaN    DDSM   \n",
       "\n",
       "                                    StudyInstanceUID  StudyTime  \n",
       "0  1.3.6.1.4.1.9590.100.1.2.271867287611061855725...   214951.0  \n",
       "1  1.3.6.1.4.1.9590.100.1.2.161516517311681906612...   193426.0  \n",
       "2  1.3.6.1.4.1.9590.100.1.2.291043622711253836701...   161814.0  \n",
       "3  1.3.6.1.4.1.9590.100.1.2.335006093711888937440...   180109.0  \n",
       "4  1.3.6.1.4.1.9590.100.1.2.335006093711888937440...        NaN  \n",
       "\n",
       "[5 rows x 38 columns]"
      ]
     },
     "execution_count": 11,
     "metadata": {},
     "output_type": "execute_result"
    }
   ],
   "source": [
    "dicom_cleaned_data = dicom_data.copy()\n",
    "dicom_cleaned_data.head()"
   ]
  },
  {
   "cell_type": "code",
   "execution_count": 12,
   "metadata": {},
   "outputs": [],
   "source": [
    "dicom_cleaned_data.drop(['PatientBirthDate', 'AccessionNumber', 'Columns', 'ContentDate', 'ContentTime',\n",
    "                         'PatientSex', 'PatientBirthDate', 'ReferringPhysicianName', 'Rows', 'SOPClassUID',\n",
    "                         'SOPInstanceUID',\n",
    "                         'StudyDate', 'StudyID', 'StudyInstanceUID', 'StudyTime', 'InstanceNumber', 'SeriesInstanceUID',\n",
    "                         'SeriesNumber'\n",
    "                         ], axis=1, inplace=True)"
   ]
  },
  {
   "cell_type": "code",
   "execution_count": 13,
   "metadata": {},
   "outputs": [
    {
     "data": {
      "text/plain": [
       "file_path                                      0\n",
       "image_path                                     0\n",
       "BitsAllocated                                  0\n",
       "BitsStored                                     0\n",
       "BodyPartExamined                               0\n",
       "ConversionType                                 0\n",
       "HighBit                                        0\n",
       "LargestImagePixelValue                         0\n",
       "Laterality                                     0\n",
       "Modality                                       0\n",
       "PatientID                                      0\n",
       "PatientName                                    0\n",
       "PatientOrientation                             0\n",
       "PhotometricInterpretation                      0\n",
       "PixelRepresentation                            0\n",
       "SamplesPerPixel                                0\n",
       "SecondaryCaptureDeviceManufacturer             0\n",
       "SecondaryCaptureDeviceManufacturerModelName    0\n",
       "SeriesDescription                              0\n",
       "SmallestImagePixelValue                        0\n",
       "SpecificCharacterSet                           0\n",
       "dtype: int64"
      ]
     },
     "execution_count": 13,
     "metadata": {},
     "output_type": "execute_result"
    }
   ],
   "source": [
    "dicom_cleaned_data['SeriesDescription'].ffill(inplace=True)\n",
    "dicom_cleaned_data['Laterality'].bfill(inplace=True)\n",
    "dicom_cleaned_data.isna().sum()"
   ]
  },
  {
   "cell_type": "markdown",
   "metadata": {},
   "source": [
    "Create a copy of 'data_2_test' DataFrame for cleaning"
   ]
  },
  {
   "cell_type": "code",
   "execution_count": 14,
   "metadata": {},
   "outputs": [],
   "source": [
    "Data_cleaning_2_test = mass_case_test_df.copy()"
   ]
  },
  {
   "cell_type": "markdown",
   "metadata": {},
   "source": [
    "Rename columns in 'Data_cleaning_2_test' DataFrame"
   ]
  },
  {
   "cell_type": "code",
   "execution_count": 15,
   "metadata": {},
   "outputs": [
    {
     "data": {
      "text/plain": [
       "patient_id                 0\n",
       "breast_density             0\n",
       "left_or_right_breast       0\n",
       "image_view                 0\n",
       "abnormality id             0\n",
       "abnormality_type           0\n",
       "mass_shape                 0\n",
       "mass_margins               0\n",
       "assessment                 0\n",
       "pathology                  0\n",
       "subtlety                   0\n",
       "image file path            0\n",
       "cropped image file path    0\n",
       "ROI mask file path         0\n",
       "dtype: int64"
      ]
     },
     "execution_count": 15,
     "metadata": {},
     "output_type": "execute_result"
    }
   ],
   "source": [
    "Data_cleaning_2_test = Data_cleaning_2_test.rename(columns={'mass shape': 'mass_shape'})\n",
    "Data_cleaning_2_test = Data_cleaning_2_test.rename(columns={'left or right breast': 'left_or_right_breast'})\n",
    "Data_cleaning_2_test = Data_cleaning_2_test.rename(columns={'mass margins': 'mass_margins'})\n",
    "Data_cleaning_2_test = Data_cleaning_2_test.rename(columns={'image view': 'image_view'})\n",
    "Data_cleaning_2_test = Data_cleaning_2_test.rename(columns={'abnormality type': 'abnormality_type'})\n",
    "# Convert specified columns in 'Data_cleaning_2_test' to the 'category' data type\n",
    "Data_cleaning_2_test['left_or_right_breast'] = Data_cleaning_2_test['left_or_right_breast'].astype('category')\n",
    "Data_cleaning_2_test['image_view'] = Data_cleaning_2_test['image_view'].astype('category')\n",
    "Data_cleaning_2_test['mass_margins'] = Data_cleaning_2_test['mass_margins'].astype('category')\n",
    "Data_cleaning_2_test['mass_shape'] = Data_cleaning_2_test['mass_shape'].astype('category')\n",
    "Data_cleaning_2_test['abnormality_type'] = Data_cleaning_2_test['abnormality_type'].astype('category')\n",
    "Data_cleaning_2_test['pathology'] = Data_cleaning_2_test['pathology'].astype('category')\n",
    "# Display the count of missing values in each column of 'Data_cleaning_2_test' DataFrame\n",
    "Data_cleaning_2_test.isna().sum()\n",
    "# Fill missing values in 'mass_margins' column of 'Data_cleaning_2_test' DataFrame using backward fill\n",
    "Data_cleaning_2_test['mass_margins'].fillna(method='bfill', axis=0, inplace=True)\n",
    "# Display the count of missing values in each column of 'Data_cleaning_2' DataFrame\n",
    "Data_cleaning_2_test.isna().sum()"
   ]
  },
  {
   "cell_type": "code",
   "execution_count": 16,
   "metadata": {},
   "outputs": [],
   "source": [
    "Data_cleaning_2 = mass_case_df.copy()"
   ]
  },
  {
   "cell_type": "code",
   "execution_count": 17,
   "metadata": {},
   "outputs": [],
   "source": [
    "Data_cleaning_2 = Data_cleaning_2.rename(columns={'mass shape': 'mass_shape'})\n",
    "Data_cleaning_2 = Data_cleaning_2.rename(columns={'left or right breast': 'left_or_right_breast'})\n",
    "Data_cleaning_2 = Data_cleaning_2.rename(columns={'mass margins': 'mass_margins'})\n",
    "Data_cleaning_2 = Data_cleaning_2.rename(columns={'image view': 'image_view'})\n",
    "Data_cleaning_2 = Data_cleaning_2.rename(columns={'abnormality type': 'abnormality_type'})"
   ]
  },
  {
   "cell_type": "code",
   "execution_count": 18,
   "metadata": {},
   "outputs": [
    {
     "data": {
      "text/plain": [
       "patient_id                  0\n",
       "breast_density              0\n",
       "left_or_right_breast        0\n",
       "image_view                  0\n",
       "abnormality id              0\n",
       "abnormality_type            0\n",
       "mass_shape                  4\n",
       "mass_margins               43\n",
       "assessment                  0\n",
       "pathology                   0\n",
       "subtlety                    0\n",
       "image file path             0\n",
       "cropped image file path     0\n",
       "ROI mask file path          0\n",
       "dtype: int64"
      ]
     },
     "execution_count": 18,
     "metadata": {},
     "output_type": "execute_result"
    }
   ],
   "source": [
    "Data_cleaning_2['left_or_right_breast'] = Data_cleaning_2['left_or_right_breast'].astype('category')\n",
    "Data_cleaning_2['image_view'] = Data_cleaning_2['image_view'].astype('category')\n",
    "Data_cleaning_2['mass_margins'] = Data_cleaning_2['mass_margins'].astype('category')\n",
    "Data_cleaning_2['mass_shape'] = Data_cleaning_2['mass_shape'].astype('category')\n",
    "Data_cleaning_2['abnormality_type'] = Data_cleaning_2['abnormality_type'].astype('category')\n",
    "Data_cleaning_2['pathology'] = Data_cleaning_2['pathology'].astype('category')\n",
    "Data_cleaning_2.isna().sum()"
   ]
  },
  {
   "cell_type": "code",
   "execution_count": 19,
   "metadata": {},
   "outputs": [
    {
     "data": {
      "text/plain": [
       "patient_id                 0\n",
       "breast_density             0\n",
       "left_or_right_breast       0\n",
       "image_view                 0\n",
       "abnormality id             0\n",
       "abnormality_type           0\n",
       "mass_shape                 0\n",
       "mass_margins               0\n",
       "assessment                 0\n",
       "pathology                  0\n",
       "subtlety                   0\n",
       "image file path            0\n",
       "cropped image file path    0\n",
       "ROI mask file path         0\n",
       "dtype: int64"
      ]
     },
     "execution_count": 19,
     "metadata": {},
     "output_type": "execute_result"
    }
   ],
   "source": [
    "Data_cleaning_2['mass_shape'].bfill(inplace=True)\n",
    "Data_cleaning_2['mass_margins'].bfill(inplace=True)\n",
    "Data_cleaning_2.isna().sum()"
   ]
  },
  {
   "cell_type": "markdown",
   "metadata": {},
   "source": [
    "Print the original column names in Data_cleaning_2 DataFrame"
   ]
  },
  {
   "cell_type": "code",
   "execution_count": 20,
   "metadata": {},
   "outputs": [
    {
     "name": "stdout",
     "output_type": "stream",
     "text": [
      "Index(['patient_id', 'breast_density', 'left_or_right_breast', 'image_view',\n",
      "       'abnormality id', 'abnormality_type', 'mass_shape', 'mass_margins',\n",
      "       'assessment', 'pathology', 'subtlety', 'image file path',\n",
      "       'cropped image file path', 'ROI mask file path'],\n",
      "      dtype='object')\n",
      "\n",
      "\n"
     ]
    }
   ],
   "source": [
    "print(Data_cleaning_2.columns)\n",
    "print('\\n')\n",
    "# Rename selected columns in Data_cleaning_2 DataFrame for better clarity\n",
    "Data_cleaning_2 = Data_cleaning_2.rename(columns={'left or right breast': 'left_or_right_breast',\n",
    "                                                  'image view': 'image_view',\n",
    "                                                  'abnormality id': 'abnormality_id',\n",
    "                                                  'abnormality type': 'abnormality_type',\n",
    "                                                  'mass shape': 'mass_shape',\n",
    "                                                  'mass margins': 'mass_margins',\n",
    "                                                  'image file path': 'image_file_path',\n",
    "                                                  'cropped image file path': 'cropped_image_file_path',\n",
    "                                                  'ROI mask file path': 'ROI_mask_file_path'})"
   ]
  },
  {
   "cell_type": "markdown",
   "metadata": {},
   "source": [
    "Display the updated column names in Data_cleaning_2 DataFrame"
   ]
  },
  {
   "cell_type": "code",
   "execution_count": 21,
   "metadata": {},
   "outputs": [
    {
     "name": "stdout",
     "output_type": "stream",
     "text": [
      "Mass-Training_P_00001_LEFT_MLO/1.3.6.1.4.1.9590.100.1.2.319478999311971442426185353560182990988/1.3.6.1.4.1.9590.100.1.2.359308329312397897125630708681441180834/000000.dcm\n"
     ]
    }
   ],
   "source": [
    "print(Data_cleaning_2[\"image_file_path\"].unique().tolist()[1])"
   ]
  },
  {
   "cell_type": "code",
   "execution_count": 22,
   "metadata": {},
   "outputs": [
    {
     "name": "stdout",
     "output_type": "stream",
     "text": [
      "Index(['patient_id', 'breast_density', 'left_or_right_breast', 'image_view',\n",
      "       'abnormality id', 'abnormality_type', 'mass_shape', 'mass_margins',\n",
      "       'assessment', 'pathology', 'subtlety', 'image file path',\n",
      "       'cropped image file path', 'ROI mask file path'],\n",
      "      dtype='object')\n",
      "\n",
      "\n"
     ]
    }
   ],
   "source": [
    "print(Data_cleaning_2_test.columns)\n",
    "print('\\n')\n",
    "# Rename selected columns in Data_cleaning_2_test DataFrame for better clarity\n",
    "Data_cleaning_2_test = Data_cleaning_2_test.rename(columns={'left or right breast': 'left_or_right_breast',\n",
    "                                                            'image view': 'image_view',\n",
    "                                                            'abnormality id': 'abnormality_id',\n",
    "                                                            'abnormality type': 'abnormality_type',\n",
    "                                                            'mass shape': 'mass_shape',\n",
    "                                                            'mass margins': 'mass_margins',\n",
    "                                                            'image file path': 'image_file_path',\n",
    "                                                            'cropped image file path': 'cropped_image_file_path',\n",
    "                                                            'ROI mask file path': 'ROI_mask_file_path'})"
   ]
  },
  {
   "cell_type": "markdown",
   "metadata": {},
   "source": [
    "Display the updated column names in Data_cleaning_2_test DataFrame"
   ]
  },
  {
   "cell_type": "code",
   "execution_count": 23,
   "metadata": {},
   "outputs": [
    {
     "name": "stdout",
     "output_type": "stream",
     "text": [
      "Index(['patient_id', 'breast_density', 'left_or_right_breast', 'image_view',\n",
      "       'abnormality_id', 'abnormality_type', 'mass_shape', 'mass_margins',\n",
      "       'assessment', 'pathology', 'subtlety', 'image_file_path',\n",
      "       'cropped_image_file_path', 'ROI_mask_file_path'],\n",
      "      dtype='object')\n"
     ]
    }
   ],
   "source": [
    "print(Data_cleaning_2_test.columns)"
   ]
  },
  {
   "cell_type": "markdown",
   "metadata": {},
   "source": [
    "organize image paths"
   ]
  },
  {
   "cell_type": "code",
   "execution_count": 24,
   "metadata": {},
   "outputs": [],
   "source": [
    "full_mammo_dict = dict()\n",
    "cropped_images_dict = dict()\n",
    "# Iterate through full_mammogram_images and create a dictionary with keys based on unique identifiers\n",
    "for dicom in full_mammogram_images:\n",
    "    key = dicom.split(\"/\")[2]\n",
    "    full_mammo_dict[key] = dicom\n",
    "# Iterate through cropped_images and create a dictionary with keys based on unique identifiers\n",
    "for dicom in cropped_images:\n",
    "    key = dicom.split(\"/\")[2]\n",
    "    cropped_images_dict[key] = dicom"
   ]
  },
  {
   "cell_type": "markdown",
   "metadata": {},
   "source": [
    "Display the keys of the first item in full_mammo_dict"
   ]
  },
  {
   "cell_type": "code",
   "execution_count": 25,
   "metadata": {},
   "outputs": [
    {
     "data": {
      "text/plain": [
       "('1.3.6.1.4.1.9590.100.1.2.248386742010678582309005372213277814849',\n",
       " 'input/jpeg/1.3.6.1.4.1.9590.100.1.2.248386742010678582309005372213277814849/1-249.jpg')"
      ]
     },
     "execution_count": 25,
     "metadata": {},
     "output_type": "execute_result"
    }
   ],
   "source": [
    "next(iter((full_mammo_dict.items())))"
   ]
  },
  {
   "cell_type": "markdown",
   "metadata": {},
   "source": [
    "fix image paths"
   ]
  },
  {
   "cell_type": "code",
   "execution_count": 26,
   "metadata": {},
   "outputs": [],
   "source": [
    "def fix_image_path(data):\n",
    "    \"\"\"correct dicom paths to correct image paths\"\"\"\n",
    "    for index, img in enumerate(data.values):\n",
    "        img_name = img[11].split(\"/\")[2]\n",
    "        data.iloc[index, 11] = full_mammo_dict[img_name]\n",
    "        img_name = img[12].split(\"/\")[2]\n",
    "        data.iloc[index, 12] = cropped_images_dict[img_name]"
   ]
  },
  {
   "cell_type": "markdown",
   "metadata": {},
   "source": [
    "apply to datasets"
   ]
  },
  {
   "cell_type": "code",
   "execution_count": 27,
   "metadata": {},
   "outputs": [],
   "source": [
    "fix_image_path(Data_cleaning_2)\n",
    "fix_image_path(Data_cleaning_2_test)"
   ]
  },
  {
   "cell_type": "markdown",
   "metadata": {},
   "source": [
    "create function to display images"
   ]
  },
  {
   "cell_type": "markdown",
   "metadata": {},
   "source": [
    "# Data Preprocessing"
   ]
  },
  {
   "cell_type": "code",
   "execution_count": 28,
   "metadata": {},
   "outputs": [],
   "source": [
    "tf.random.set_seed(100)"
   ]
  },
  {
   "cell_type": "markdown",
   "metadata": {},
   "source": [
    "Define a classification dictionary for pathology"
   ]
  },
  {
   "cell_type": "code",
   "execution_count": 29,
   "metadata": {},
   "outputs": [],
   "source": [
    "classification = {\"MALIGNANT\": 0, \"BENIGN_WITHOUT_CALLBACK\": 1, \"BENIGN\": 1}"
   ]
  },
  {
   "cell_type": "code",
   "execution_count": 48,
   "metadata": {},
   "outputs": [],
   "source": [
    "def load_image(img):\n",
    "    # Load and resize the image\n",
    "    c_img = cv2.imread(img, cv2.IMREAD_COLOR)\n",
    "    c_img_size = cv2.resize(c_img, (50, 50), interpolation=cv2.INTER_LINEAR)\n",
    "    return c_img_size"
   ]
  },
  {
   "cell_type": "code",
   "execution_count": 49,
   "metadata": {},
   "outputs": [],
   "source": [
    "def get_pathology(pathology):\n",
    "    return classification[pathology]"
   ]
  },
  {
   "cell_type": "code",
   "execution_count": 50,
   "metadata": {},
   "outputs": [],
   "source": [
    "def get_images_result(dataset):\n",
    "    with ThreadPoolExecutor() as executor:\n",
    "        # Load images and get pathology results using parallel processing\n",
    "        images = np.array(list(executor.map(load_image, dataset.loc[:]['image_file_path'])))\n",
    "        result = np.array(list(executor.map(get_pathology, dataset.loc[:]['pathology'])))\n",
    "    # Convert pathology results to categorical format\n",
    "    result = to_categorical(result)\n",
    "    return images, result"
   ]
  },
  {
   "cell_type": "code",
   "execution_count": 51,
   "metadata": {},
   "outputs": [
    {
     "name": "stdout",
     "output_type": "stream",
     "text": [
      "Uploading the images and resizing in 23.9653 seconds\n",
      "X_train shape : (1318, 50, 50, 3)\n",
      "y_train shape : (1318, 2)\n",
      "X_test shape : (378, 50, 50, 3)\n",
      "y_test shape : (378, 2)\n"
     ]
    }
   ],
   "source": [
    "mass_train_data_shuffled = Data_cleaning_2.sample(frac=1)\n",
    "mass_test_data_shuffled = Data_cleaning_2_test.sample(frac=1)\n",
    "tic = time.perf_counter()\n",
    "(X_train, y_train) = get_images_result(mass_train_data_shuffled)\n",
    "(X_test, y_test) = get_images_result(mass_test_data_shuffled)\n",
    "toc = time.perf_counter()\n",
    "print(f\"Uploading the images and resizing in {toc - tic:0.4f} seconds\")\n",
    "print('X_train shape : {}'.format(X_train.shape))\n",
    "print('y_train shape : {}'.format(y_train.shape))\n",
    "print('X_test shape : {}'.format(X_test.shape))\n",
    "print('y_test shape : {}'.format(y_test.shape))"
   ]
  },
  {
   "cell_type": "code",
   "execution_count": 56,
   "metadata": {},
   "outputs": [
    {
     "name": "stdout",
     "output_type": "stream",
     "text": [
      "Full Mammograms:\n",
      "\n"
     ]
    },
    {
     "data": {
      "image/png": "[encoded data removed]",
      "text/plain": [
       "<Figure size 1500x500 with 5 Axes>"
      ]
     },
     "metadata": {},
     "output_type": "display_data"
    },
    {
     "name": "stdout",
     "output_type": "stream",
     "text": [
      "Cropped Mammograms:\n",
      "\n"
     ]
    },
    {
     "data": {
      "image/png": "[encoded data removed]",
      "text/plain": [
       "<Figure size 1500x500 with 5 Axes>"
      ]
     },
     "metadata": {},
     "output_type": "display_data"
    }
   ],
   "source": [
    "# create function to display images\n",
    "def display_images(column, number):\n",
    "    \"\"\"displays images in the dataset\"\"\"\n",
    "    # create figure and axes\n",
    "    number_to_visualize = number\n",
    "    rows = 1\n",
    "    cols = number_to_visualize\n",
    "    fig, axes = plt.subplots(rows, cols, figsize=(15, 5))\n",
    "    \n",
    "    # Loop through rows and display images\n",
    "    for index, row in Data_cleaning_2.head(number_to_visualize).iterrows():\n",
    "        image_path = row[column]\n",
    "        image = mpimg.imread(image_path)\n",
    "        image = cv2.resize(image, (50, 50), interpolation=cv2.INTER_LINEAR)\n",
    "        col_index = index % cols  # Calculate the correct column index\n",
    "        ax = axes[col_index]\n",
    "        ax.imshow(image, cmap='gray')\n",
    "        ax.set_title(f\"{row['pathology']}\")\n",
    "        ax.axis('off')\n",
    "    plt.tight_layout()\n",
    "    plt.show()\n",
    "\n",
    "print('Full Mammograms:\\n')\n",
    "display_images('image_file_path', 5)\n",
    "print('Cropped Mammograms:\\n')\n",
    "display_images('cropped_image_file_path', 5)"
   ]
  },
  {
   "cell_type": "markdown",
   "metadata": {},
   "source": [
    "## FINE TUNE"
   ]
  },
  {
   "cell_type": "code",
   "execution_count": 2,
   "metadata": {},
   "outputs": [
    {
     "name": "stderr",
     "output_type": "stream",
     "text": [
      "2024-08-03 12:25:50.139564: I tensorflow/compiler/xla/stream_executor/cuda/cuda_gpu_executor.cc:996] successful NUMA node read from SysFS had negative value (-1), but there must be at least one NUMA node, so returning NUMA node zero. See more at https://github.com/torvalds/linux/blob/v6.0/Documentation/ABI/testing/sysfs-bus-pci#L344-L355\n",
      "2024-08-03 12:25:50.184824: I tensorflow/compiler/xla/stream_executor/cuda/cuda_gpu_executor.cc:996] successful NUMA node read from SysFS had negative value (-1), but there must be at least one NUMA node, so returning NUMA node zero. See more at https://github.com/torvalds/linux/blob/v6.0/Documentation/ABI/testing/sysfs-bus-pci#L344-L355\n",
      "2024-08-03 12:25:50.185020: I tensorflow/compiler/xla/stream_executor/cuda/cuda_gpu_executor.cc:996] successful NUMA node read from SysFS had negative value (-1), but there must be at least one NUMA node, so returning NUMA node zero. See more at https://github.com/torvalds/linux/blob/v6.0/Documentation/ABI/testing/sysfs-bus-pci#L344-L355\n",
      "2024-08-03 12:25:50.186278: I tensorflow/compiler/xla/stream_executor/cuda/cuda_gpu_executor.cc:996] successful NUMA node read from SysFS had negative value (-1), but there must be at least one NUMA node, so returning NUMA node zero. See more at https://github.com/torvalds/linux/blob/v6.0/Documentation/ABI/testing/sysfs-bus-pci#L344-L355\n",
      "2024-08-03 12:25:50.186436: I tensorflow/compiler/xla/stream_executor/cuda/cuda_gpu_executor.cc:996] successful NUMA node read from SysFS had negative value (-1), but there must be at least one NUMA node, so returning NUMA node zero. See more at https://github.com/torvalds/linux/blob/v6.0/Documentation/ABI/testing/sysfs-bus-pci#L344-L355\n",
      "2024-08-03 12:25:50.186622: I tensorflow/compiler/xla/stream_executor/cuda/cuda_gpu_executor.cc:996] successful NUMA node read from SysFS had negative value (-1), but there must be at least one NUMA node, so returning NUMA node zero. See more at https://github.com/torvalds/linux/blob/v6.0/Documentation/ABI/testing/sysfs-bus-pci#L344-L355\n",
      "2024-08-03 12:25:50.956110: I tensorflow/compiler/xla/stream_executor/cuda/cuda_gpu_executor.cc:996] successful NUMA node read from SysFS had negative value (-1), but there must be at least one NUMA node, so returning NUMA node zero. See more at https://github.com/torvalds/linux/blob/v6.0/Documentation/ABI/testing/sysfs-bus-pci#L344-L355\n",
      "2024-08-03 12:25:50.956318: I tensorflow/compiler/xla/stream_executor/cuda/cuda_gpu_executor.cc:996] successful NUMA node read from SysFS had negative value (-1), but there must be at least one NUMA node, so returning NUMA node zero. See more at https://github.com/torvalds/linux/blob/v6.0/Documentation/ABI/testing/sysfs-bus-pci#L344-L355\n",
      "2024-08-03 12:25:50.956464: I tensorflow/compiler/xla/stream_executor/cuda/cuda_gpu_executor.cc:996] successful NUMA node read from SysFS had negative value (-1), but there must be at least one NUMA node, so returning NUMA node zero. See more at https://github.com/torvalds/linux/blob/v6.0/Documentation/ABI/testing/sysfs-bus-pci#L344-L355\n",
      "2024-08-03 12:25:50.956785: I tensorflow/core/common_runtime/gpu/gpu_device.cc:1635] Created device /job:localhost/replica:0/task:0/device:GPU:0 with 2596 MB memory:  -> device: 0, name: NVIDIA GeForce GTX 1650 Ti, pci bus id: 0000:01:00.0, compute capability: 7.5\n"
     ]
    }
   ],
   "source": [
    "from tensorflow import keras\n",
    "base_model = keras.models.load_model(\"input/model_breastHistoryDataset_Cnn.h5\")"
   ]
  },
  {
   "cell_type": "code",
   "execution_count": 5,
   "metadata": {},
   "outputs": [
    {
     "name": "stdout",
     "output_type": "stream",
     "text": [
      "Model: \"sequential_3\"\n",
      "_________________________________________________________________\n",
      " Layer (type)                Output Shape              Param #   \n",
      "=================================================================\n",
      " conv2d_3 (Conv2D)           (None, 48, 48, 32)        896       \n",
      "                                                                 \n",
      " max_pooling2d_3 (MaxPooling  (None, 24, 24, 32)       0         \n",
      " 2D)                                                             \n",
      "                                                                 \n",
      " conv2d_4 (Conv2D)           (None, 22, 22, 64)        18496     \n",
      "                                                                 \n",
      " max_pooling2d_4 (MaxPooling  (None, 11, 11, 64)       0         \n",
      " 2D)                                                             \n",
      "                                                                 \n",
      " conv2d_5 (Conv2D)           (None, 9, 9, 128)         73856     \n",
      "                                                                 \n",
      " max_pooling2d_5 (MaxPooling  (None, 4, 4, 128)        0         \n",
      " 2D)                                                             \n",
      "                                                                 \n",
      " flatten_2 (Flatten)         (None, 2048)              0         \n",
      "                                                                 \n",
      " dense_9 (Dense)             (None, 128)               262272    \n",
      "                                                                 \n",
      " dropout_6 (Dropout)         (None, 128)               0         \n",
      "                                                                 \n",
      " dense_10 (Dense)            (None, 2)                 258       \n",
      "                                                                 \n",
      "=================================================================\n",
      "Total params: 355,778\n",
      "Trainable params: 355,778\n",
      "Non-trainable params: 0\n",
      "_________________________________________________________________\n"
     ]
    }
   ],
   "source": [
    "base_model.summary()"
   ]
  },
  {
   "cell_type": "code",
   "execution_count": 8,
   "metadata": {},
   "outputs": [
    {
     "data": {
      "text/plain": [
       "<keras.layers.reshaping.flatten.Flatten at 0x7b035dc235b0>"
      ]
     },
     "execution_count": 8,
     "metadata": {},
     "output_type": "execute_result"
    }
   ],
   "source": [
    "base_model.layers[-4]"
   ]
  },
  {
   "cell_type": "code",
   "execution_count": 7,
   "metadata": {},
   "outputs": [
    {
     "name": "stdout",
     "output_type": "stream",
     "text": [
      "(None, 50, 50, 3)\n"
     ]
    }
   ],
   "source": [
    "inputs = keras.Input(shape=(50,50,3))\n",
    "print(inputs.shape)"
   ]
  },
  {
   "cell_type": "code",
   "execution_count": 10,
   "metadata": {},
   "outputs": [
    {
     "name": "stdout",
     "output_type": "stream",
     "text": [
      "Model: \"model\"\n",
      "____________________________________________________________________________\n",
      " Layer (type)                Output Shape              Param #   Trainable  \n",
      "============================================================================\n",
      " input_1 (InputLayer)        [(None, 50, 50, 3)]       0         Y          \n",
      "                                                                            \n",
      " rescaling (Rescaling)       (None, 50, 50, 3)         0         Y          \n",
      "                                                                            \n",
      " conv2d_3 (Conv2D)           (None, 48, 48, 32)        896       Y          \n",
      "                                                                            \n",
      " max_pooling2d_3 (MaxPooling  (None, 24, 24, 32)       0         Y          \n",
      " 2D)                                                                        \n",
      "                                                                            \n",
      " conv2d_4 (Conv2D)           (None, 22, 22, 64)        18496     Y          \n",
      "                                                                            \n",
      " max_pooling2d_4 (MaxPooling  (None, 11, 11, 64)       0         Y          \n",
      " 2D)                                                                        \n",
      "                                                                            \n",
      " conv2d_5 (Conv2D)           (None, 9, 9, 128)         73856     Y          \n",
      "                                                                            \n",
      " max_pooling2d_5 (MaxPooling  (None, 4, 4, 128)        0         Y          \n",
      " 2D)                                                                        \n",
      "                                                                            \n",
      " global_average_pooling2d (G  (None, 128)              0         Y          \n",
      " lobalAveragePooling2D)                                                     \n",
      "                                                                            \n",
      " dropout (Dropout)           (None, 128)               0         Y          \n",
      "                                                                            \n",
      " dense (Dense)               (None, 1)                 129       Y          \n",
      "                                                                            \n",
      "============================================================================\n",
      "Total params: 93,377\n",
      "Trainable params: 93,377\n",
      "Non-trainable params: 0\n",
      "____________________________________________________________________________\n"
     ]
    }
   ],
   "source": [
    "scale_layer = keras.layers.Rescaling(scale=1 / 127.5, offset=-1)\n",
    "x = scale_layer(inputs)\n",
    "\n",
    "for layer in base_model.layers[:-4]:\n",
    "    x = base_model.get_layer(layer.name)(x)\n",
    "x = keras.layers.GlobalAveragePooling2D()(x)\n",
    "x = keras.layers.Dropout(0.2)(x)\n",
    "outputs = keras.layers.Dense(1)(x)\n",
    "fine_tuned_model = keras.Model(inputs, outputs)\n",
    "\n",
    "fine_tuned_model.summary(show_trainable=True)"
   ]
  },
  {
   "cell_type": "code",
   "execution_count": 87,
   "metadata": {},
   "outputs": [
    {
     "name": "stdout",
     "output_type": "stream",
     "text": [
      "(None, 50, 50, 3)\n",
      "(None, 50, 50, 3)\n"
     ]
    },
    {
     "ename": "TypeError",
     "evalue": "Sequential.call() got an unexpected keyword argument 'include_top'",
     "output_type": "error",
     "traceback": [
      "\u001b[0;31m---------------------------------------------------------------------------\u001b[0m",
      "\u001b[0;31mTypeError\u001b[0m                                 Traceback (most recent call last)",
      "Cell \u001b[0;32mIn[87], line 8\u001b[0m\n\u001b[1;32m      6\u001b[0m x \u001b[38;5;241m=\u001b[39m scale_layer(inputs)\n\u001b[1;32m      7\u001b[0m \u001b[38;5;28mprint\u001b[39m(x\u001b[38;5;241m.\u001b[39mshape)\n\u001b[0;32m----> 8\u001b[0m x \u001b[38;5;241m=\u001b[39m \u001b[43mbase_model\u001b[49m\u001b[43m(\u001b[49m\u001b[43mx\u001b[49m\u001b[43m,\u001b[49m\u001b[43m \u001b[49m\u001b[43mtraining\u001b[49m\u001b[38;5;241;43m=\u001b[39;49m\u001b[38;5;28;43;01mFalse\u001b[39;49;00m\u001b[43m,\u001b[49m\u001b[43m \u001b[49m\u001b[43minclude_top\u001b[49m\u001b[38;5;241;43m=\u001b[39;49m\u001b[38;5;28;43;01mFalse\u001b[39;49;00m\u001b[43m)\u001b[49m\n\u001b[1;32m     10\u001b[0m \u001b[38;5;28mprint\u001b[39m(x\u001b[38;5;241m.\u001b[39mshape)\n\u001b[1;32m     11\u001b[0m x \u001b[38;5;241m=\u001b[39m tf\u001b[38;5;241m.\u001b[39mkeras\u001b[38;5;241m.\u001b[39mlayers\u001b[38;5;241m.\u001b[39mGlobalAveragePooling2D()(x)\n",
      "File \u001b[0;32m~/PycharmProjects/venv/nx-reco-engine/lib/python3.10/site-packages/keras/utils/traceback_utils.py:70\u001b[0m, in \u001b[0;36mfilter_traceback.<locals>.error_handler\u001b[0;34m(*args, **kwargs)\u001b[0m\n\u001b[1;32m     67\u001b[0m     filtered_tb \u001b[38;5;241m=\u001b[39m _process_traceback_frames(e\u001b[38;5;241m.\u001b[39m__traceback__)\n\u001b[1;32m     68\u001b[0m     \u001b[38;5;66;03m# To get the full stack trace, call:\u001b[39;00m\n\u001b[1;32m     69\u001b[0m     \u001b[38;5;66;03m# `tf.debugging.disable_traceback_filtering()`\u001b[39;00m\n\u001b[0;32m---> 70\u001b[0m     \u001b[38;5;28;01mraise\u001b[39;00m e\u001b[38;5;241m.\u001b[39mwith_traceback(filtered_tb) \u001b[38;5;28;01mfrom\u001b[39;00m \u001b[38;5;28;01mNone\u001b[39;00m\n\u001b[1;32m     71\u001b[0m \u001b[38;5;28;01mfinally\u001b[39;00m:\n\u001b[1;32m     72\u001b[0m     \u001b[38;5;28;01mdel\u001b[39;00m filtered_tb\n",
      "File \u001b[0;32m~/PycharmProjects/venv/nx-reco-engine/lib/python3.10/site-packages/keras/utils/traceback_utils.py:96\u001b[0m, in \u001b[0;36minject_argument_info_in_traceback.<locals>.error_handler\u001b[0;34m(*args, **kwargs)\u001b[0m\n\u001b[1;32m     94\u001b[0m bound_signature \u001b[38;5;241m=\u001b[39m \u001b[38;5;28;01mNone\u001b[39;00m\n\u001b[1;32m     95\u001b[0m \u001b[38;5;28;01mtry\u001b[39;00m:\n\u001b[0;32m---> 96\u001b[0m     \u001b[38;5;28;01mreturn\u001b[39;00m fn(\u001b[38;5;241m*\u001b[39margs, \u001b[38;5;241m*\u001b[39m\u001b[38;5;241m*\u001b[39mkwargs)\n\u001b[1;32m     97\u001b[0m \u001b[38;5;28;01mexcept\u001b[39;00m \u001b[38;5;167;01mException\u001b[39;00m \u001b[38;5;28;01mas\u001b[39;00m e:\n\u001b[1;32m     98\u001b[0m     \u001b[38;5;28;01mif\u001b[39;00m \u001b[38;5;28mhasattr\u001b[39m(e, \u001b[38;5;124m\"\u001b[39m\u001b[38;5;124m_keras_call_info_injected\u001b[39m\u001b[38;5;124m\"\u001b[39m):\n\u001b[1;32m     99\u001b[0m         \u001b[38;5;66;03m# Only inject info for the innermost failing call\u001b[39;00m\n",
      "\u001b[0;31mTypeError\u001b[0m: Sequential.call() got an unexpected keyword argument 'include_top'"
     ]
    }
   ],
   "source": [
    "base_model.trainable = False\n",
    "\n",
    "scale_layer = tf.keras.layers.Rescaling(scale=1/127.5, offset=-1)\n",
    "x = scale_layer(inputs)\n",
    "print(x.shape)\n",
    "x = base_model(x, training=False, include_top=False)\n",
    "\n",
    "print(x.shape)\n",
    "x = tf.keras.layers.GlobalAveragePooling2D()(x)\n",
    "x = tf.keras.layers.Dropout(0.2)(x)  # Regularize with dropout\n",
    "outputs = tf.keras.layers.Dense(1)(x)\n",
    "model = tf.keras.Model(inputs, outputs)\n",
    "\n",
    "model.summary(show_trainable=True)"
   ]
  },
  {
   "cell_type": "code",
   "execution_count": null,
   "metadata": {},
   "outputs": [],
   "source": []
  },
  {
   "cell_type": "code",
   "execution_count": 40,
   "metadata": {},
   "outputs": [],
   "source": [
    "def create_cnn_model(input_shape):\n",
    "    model = Sequential()\n",
    "    model.add(Conv2D(128, (3, 3), input_shape=input_shape))\n",
    "    model.add(MaxPooling2D((2, 2)))\n",
    "    model.add(Conv2D(64, (3, 3), activation='relu'))\n",
    "    model.add(MaxPooling2D((2, 2)))\n",
    "    model.add(Conv2D(32, (3, 3), activation='relu'))\n",
    "    model.add(MaxPooling2D((2, 2)))\n",
    "    model.add(Flatten())\n",
    "    model.add(Dense(256, activation='relu'))  # Increase the number of neurons in the dense layer\n",
    "    model.add(Dropout(0.2))  # Adjust dropout rate\n",
    "    model.add(Dense(128, activation='relu'))\n",
    "    model.add(Dropout(0.2))\n",
    "    model.add(Dense(2, activation='softmax'))\n",
    "\n",
    "    # Compile the model with a lower learning rate\n",
    "    model.compile(optimizer='adam', loss='categorical_crossentropy', metrics=['accuracy'])\n",
    "    early_stopping = EarlyStopping(monitor='val_loss', patience=10, restore_best_weights=True)\n",
    "    return model, early_stopping"
   ]
  },
  {
   "cell_type": "code",
   "execution_count": 43,
   "metadata": {},
   "outputs": [
    {
     "name": "stderr",
     "output_type": "stream",
     "text": [
      "2024-07-27 09:30:17.355848: I tensorflow/compiler/xla/stream_executor/cuda/cuda_gpu_executor.cc:996] successful NUMA node read from SysFS had negative value (-1), but there must be at least one NUMA node, so returning NUMA node zero. See more at https://github.com/torvalds/linux/blob/v6.0/Documentation/ABI/testing/sysfs-bus-pci#L344-L355\n",
      "2024-07-27 09:30:17.438930: I tensorflow/compiler/xla/stream_executor/cuda/cuda_gpu_executor.cc:996] successful NUMA node read from SysFS had negative value (-1), but there must be at least one NUMA node, so returning NUMA node zero. See more at https://github.com/torvalds/linux/blob/v6.0/Documentation/ABI/testing/sysfs-bus-pci#L344-L355\n",
      "2024-07-27 09:30:17.439568: I tensorflow/compiler/xla/stream_executor/cuda/cuda_gpu_executor.cc:996] successful NUMA node read from SysFS had negative value (-1), but there must be at least one NUMA node, so returning NUMA node zero. See more at https://github.com/torvalds/linux/blob/v6.0/Documentation/ABI/testing/sysfs-bus-pci#L344-L355\n",
      "2024-07-27 09:30:17.443721: I tensorflow/compiler/xla/stream_executor/cuda/cuda_gpu_executor.cc:996] successful NUMA node read from SysFS had negative value (-1), but there must be at least one NUMA node, so returning NUMA node zero. See more at https://github.com/torvalds/linux/blob/v6.0/Documentation/ABI/testing/sysfs-bus-pci#L344-L355\n",
      "2024-07-27 09:30:17.444334: I tensorflow/compiler/xla/stream_executor/cuda/cuda_gpu_executor.cc:996] successful NUMA node read from SysFS had negative value (-1), but there must be at least one NUMA node, so returning NUMA node zero. See more at https://github.com/torvalds/linux/blob/v6.0/Documentation/ABI/testing/sysfs-bus-pci#L344-L355\n",
      "2024-07-27 09:30:17.444863: I tensorflow/compiler/xla/stream_executor/cuda/cuda_gpu_executor.cc:996] successful NUMA node read from SysFS had negative value (-1), but there must be at least one NUMA node, so returning NUMA node zero. See more at https://github.com/torvalds/linux/blob/v6.0/Documentation/ABI/testing/sysfs-bus-pci#L344-L355\n",
      "2024-07-27 09:30:18.243687: I tensorflow/compiler/xla/stream_executor/cuda/cuda_gpu_executor.cc:996] successful NUMA node read from SysFS had negative value (-1), but there must be at least one NUMA node, so returning NUMA node zero. See more at https://github.com/torvalds/linux/blob/v6.0/Documentation/ABI/testing/sysfs-bus-pci#L344-L355\n",
      "2024-07-27 09:30:18.243897: I tensorflow/compiler/xla/stream_executor/cuda/cuda_gpu_executor.cc:996] successful NUMA node read from SysFS had negative value (-1), but there must be at least one NUMA node, so returning NUMA node zero. See more at https://github.com/torvalds/linux/blob/v6.0/Documentation/ABI/testing/sysfs-bus-pci#L344-L355\n",
      "2024-07-27 09:30:18.244046: I tensorflow/compiler/xla/stream_executor/cuda/cuda_gpu_executor.cc:996] successful NUMA node read from SysFS had negative value (-1), but there must be at least one NUMA node, so returning NUMA node zero. See more at https://github.com/torvalds/linux/blob/v6.0/Documentation/ABI/testing/sysfs-bus-pci#L344-L355\n",
      "2024-07-27 09:30:18.244160: I tensorflow/core/common_runtime/gpu/gpu_device.cc:1635] Created device /job:localhost/replica:0/task:0/device:GPU:0 with 2596 MB memory:  -> device: 0, name: NVIDIA GeForce GTX 1650 Ti, pci bus id: 0000:01:00.0, compute capability: 7.5\n"
     ]
    }
   ],
   "source": [
    "cnn_model, early_stopping = create_cnn_model(input_shape=(224, 224, 3))\n",
    "from tensorflow.keras.preprocessing.image import ImageDataGenerator"
   ]
  },
  {
   "cell_type": "code",
   "execution_count": 44,
   "metadata": {},
   "outputs": [],
   "source": [
    "datagen = ImageDataGenerator(\n",
    "    rotation_range=20,\n",
    "    width_shift_range=0.2,\n",
    "    height_shift_range=0.2,\n",
    "    shear_range=0.2,\n",
    "    zoom_range=0.2,\n",
    "    horizontal_flip=True,\n",
    "    vertical_flip=True,\n",
    "    fill_mode='nearest'\n",
    ")"
   ]
  },
  {
   "cell_type": "code",
   "execution_count": 44,
   "metadata": {},
   "outputs": [],
   "source": [
    "history = cnn_model.fit(datagen.flow(X_train, y_train, batch_size=32), epochs=30, validation_data=(X_test, y_test),\n",
    "                         callbacks=early_stopping)"
   ]
  },
  {
   "cell_type": "markdown",
   "metadata": {},
   "source": [
    "Print the final accuracy and loss"
   ]
  },
  {
   "cell_type": "code",
   "execution_count": null,
   "metadata": {},
   "outputs": [],
   "source": [
    "final_loss, final_accuracy = cnn_model.evaluate(X_test, y_test)\n",
    "print(f'Final Validation Loss: {final_loss:.4f}')\n",
    "print(f'Final Validation Accuracy: {final_accuracy:.4f}')"
   ]
  },
  {
   "cell_type": "markdown",
   "metadata": {},
   "source": [
    "In[31]:"
   ]
  },
  {
   "cell_type": "markdown",
   "metadata": {},
   "source": [
    "Save the trained model to a file"
   ]
  },
  {
   "cell_type": "code",
   "execution_count": null,
   "metadata": {},
   "outputs": [],
   "source": [
    "cnn_model.save(\"cnn_model.h5\")\n",
    "print(\"Model saved to disk.\")"
   ]
  },
  {
   "cell_type": "markdown",
   "metadata": {},
   "source": [
    "Load the model back (optional)"
   ]
  },
  {
   "cell_type": "code",
   "execution_count": null,
   "metadata": {},
   "outputs": [],
   "source": [
    "loaded_model = load_model(\"cnn_model.h5\")"
   ]
  },
  {
   "cell_type": "markdown",
   "metadata": {},
   "source": [
    "## DenseNet121-cbis ddsm breast cancer dataset"
   ]
  },
  {
   "cell_type": "markdown",
   "metadata": {},
   "source": [
    "In[32]:"
   ]
  },
  {
   "cell_type": "code",
   "execution_count": null,
   "metadata": {},
   "outputs": [],
   "source": [
    "from tensorflow.keras.applications import DenseNet121"
   ]
  },
  {
   "cell_type": "code",
   "execution_count": null,
   "metadata": {},
   "outputs": [],
   "source": [
    "def create_densenet_model(input_shape):\n",
    "    base_model = DenseNet121(weights='imagenet', include_top=False, input_shape=input_shape)\n",
    "    model = Sequential()\n",
    "    model.add(base_model)\n",
    "    model.add(Flatten())\n",
    "    model.add(Dense(256, activation='relu'))\n",
    "    model.add(Dropout(0.5))\n",
    "    model.add(Dense(128, activation='relu'))\n",
    "    model.add(Dropout(0.2))\n",
    "    model.add(Dense(2, activation='softmax'))\n",
    "\n",
    "    # Compile the model\n",
    "    model.compile(optimizer='adam', loss='categorical_crossentropy', metrics=['accuracy'])\n",
    "    early_stopping = EarlyStopping(monitor='val_loss', patience=10, restore_best_weights=True)\n",
    "    return model, early_stopping"
   ]
  },
  {
   "cell_type": "markdown",
   "metadata": {},
   "source": [
    "Reshape the input data"
   ]
  },
  {
   "cell_type": "code",
   "execution_count": null,
   "metadata": {},
   "outputs": [],
   "source": [
    "input_shape_densenet = (224, 224, 3)"
   ]
  },
  {
   "cell_type": "markdown",
   "metadata": {},
   "source": [
    "Create and compile the modified DenseNet121 model"
   ]
  },
  {
   "cell_type": "code",
   "execution_count": null,
   "metadata": {},
   "outputs": [],
   "source": [
    "densenet_model, early_stopping_densenet = create_densenet_model(input_shape_densenet)"
   ]
  },
  {
   "cell_type": "code",
   "execution_count": null,
   "metadata": {},
   "outputs": [],
   "source": [
    "datagen = ImageDataGenerator(\n",
    "    rotation_range=20,\n",
    "    width_shift_range=0.2,\n",
    "    height_shift_range=0.2,\n",
    "    shear_range=0.2,\n",
    "    zoom_range=0.2,\n",
    "    horizontal_flip=True,\n",
    "    vertical_flip=True,\n",
    "    fill_mode='nearest'\n",
    ")"
   ]
  },
  {
   "cell_type": "markdown",
   "metadata": {},
   "source": [
    "Train the model"
   ]
  },
  {
   "cell_type": "code",
   "execution_count": null,
   "metadata": {},
   "outputs": [],
   "source": [
    "history_densenet = densenet_model.fit(datagen.flow(X_train, y_train, batch_size=32), epochs=30,\n",
    "                                      validation_data=(X_test, y_test), callbacks=[early_stopping_densenet])"
   ]
  },
  {
   "cell_type": "markdown",
   "metadata": {},
   "source": [
    "Evaluate the model"
   ]
  },
  {
   "cell_type": "code",
   "execution_count": null,
   "metadata": {},
   "outputs": [],
   "source": [
    "final_loss_densenet, final_accuracy_densenet = densenet_model.evaluate(X_test, y_test)\n",
    "print(f'Final Validation Loss (DenseNet): {final_loss_densenet:.4f}')\n",
    "print(f'Final Validation Accuracy (DenseNet): {final_accuracy_densenet:.4f}')"
   ]
  },
  {
   "cell_type": "markdown",
   "metadata": {},
   "source": [
    "Save the DenseNet model to an h5 file"
   ]
  },
  {
   "cell_type": "code",
   "execution_count": null,
   "metadata": {},
   "outputs": [],
   "source": [
    "densenet_model.save('denseNet_model_cbis.h5')\n",
    "print(\"DenseNet121 Model saved to disk.\")"
   ]
  },
  {
   "cell_type": "markdown",
   "metadata": {},
   "source": [
    "# EfficientNetB0 Cbis"
   ]
  },
  {
   "cell_type": "markdown",
   "metadata": {},
   "source": [
    "In[33]:"
   ]
  },
  {
   "cell_type": "code",
   "execution_count": null,
   "metadata": {},
   "outputs": [],
   "source": [
    "from tensorflow.keras.layers import GlobalAveragePooling2D\n",
    "from tensorflow.keras.applications import EfficientNetB0\n",
    "from tensorflow.keras.models import Sequential\n",
    "from tensorflow.keras.callbacks import EarlyStopping\n",
    "from tensorflow.keras.preprocessing.image import ImageDataGenerator"
   ]
  },
  {
   "cell_type": "markdown",
   "metadata": {},
   "source": [
    "Define the modified model with EfficientNetB0 base"
   ]
  },
  {
   "cell_type": "code",
   "execution_count": null,
   "metadata": {},
   "outputs": [],
   "source": [
    "def create_efficientnet_model(input_shape):\n",
    "    base_model = EfficientNetB0(weights='imagenet', include_top=False, input_shape=input_shape)\n",
    "    model = Sequential()\n",
    "    model.add(base_model)\n",
    "    model.add(GlobalAveragePooling2D())\n",
    "    model.add(Dense(256, activation='relu'))\n",
    "    model.add(Dropout(0.2))\n",
    "    model.add(Dense(128, activation='relu'))\n",
    "    model.add(Dropout(0.2))\n",
    "    model.add(Dense(2, activation='softmax'))\n",
    "\n",
    "    # Compile the model\n",
    "    model.compile(optimizer='adam', loss='categorical_crossentropy', metrics=['accuracy'])\n",
    "    early_stopping = EarlyStopping(monitor='val_loss', patience=10, restore_best_weights=True)\n",
    "    return model, early_stopping"
   ]
  },
  {
   "cell_type": "markdown",
   "metadata": {},
   "source": [
    "Reshape the input data"
   ]
  },
  {
   "cell_type": "code",
   "execution_count": null,
   "metadata": {},
   "outputs": [],
   "source": [
    "input_shape_efficientnet = (224, 224, 3)"
   ]
  },
  {
   "cell_type": "markdown",
   "metadata": {},
   "source": [
    "Create and compile the modified EfficientNetB0 model"
   ]
  },
  {
   "cell_type": "code",
   "execution_count": null,
   "metadata": {},
   "outputs": [],
   "source": [
    "efficientnet_model, early_stopping_efficientnet = create_efficientnet_model(input_shape_efficientnet)"
   ]
  },
  {
   "cell_type": "code",
   "execution_count": null,
   "metadata": {},
   "outputs": [],
   "source": [
    "datagen = ImageDataGenerator(\n",
    "    rotation_range=20,\n",
    "    width_shift_range=0.2,\n",
    "    height_shift_range=0.2,\n",
    "    shear_range=0.2,\n",
    "    zoom_range=0.2,\n",
    "    horizontal_flip=True,\n",
    "    vertical_flip=True,\n",
    "    fill_mode='nearest'\n",
    ")"
   ]
  },
  {
   "cell_type": "markdown",
   "metadata": {},
   "source": [
    "Train the model"
   ]
  },
  {
   "cell_type": "code",
   "execution_count": null,
   "metadata": {},
   "outputs": [],
   "source": [
    "history_efficientnet = efficientnet_model.fit(datagen.flow(X_train, y_train, batch_size=32), epochs=30,\n",
    "                                              validation_data=(X_test, y_test), callbacks=[early_stopping_efficientnet])"
   ]
  },
  {
   "cell_type": "markdown",
   "metadata": {},
   "source": [
    "Evaluate the model"
   ]
  },
  {
   "cell_type": "code",
   "execution_count": null,
   "metadata": {},
   "outputs": [],
   "source": [
    "final_loss_efficientnet, final_accuracy_efficientnet = efficientnet_model.evaluate(X_test, y_test)\n",
    "print(f'Final Validation Loss (EfficientNetB0): {final_loss_efficientnet:.4f}')\n",
    "print(f'Final Validation Accuracy (EfficientNetB0): {final_accuracy_efficientnet:.4f}')"
   ]
  },
  {
   "cell_type": "markdown",
   "metadata": {},
   "source": [
    "Save the modified EfficientNetB0 model to a h5 file"
   ]
  },
  {
   "cell_type": "code",
   "execution_count": null,
   "metadata": {},
   "outputs": [],
   "source": [
    "efficientnet_model.save('efficientnetb0_model_cbis.h5')\n",
    "print(\"Modified EfficientNetB0 Model saved to disk.\")"
   ]
  },
  {
   "cell_type": "code",
   "execution_count": 2,
   "metadata": {},
   "outputs": [],
   "source": [
    "base_directory = 'breast-histopathology-images/'"
   ]
  },
  {
   "cell_type": "code",
   "execution_count": 3,
   "metadata": {},
   "outputs": [],
   "source": [
    "breast_img = []"
   ]
  },
  {
   "cell_type": "code",
   "execution_count": 4,
   "metadata": {},
   "outputs": [],
   "source": [
    "subdirectories = [f.path for f in os.scandir(base_directory) if f.is_dir()]"
   ]
  },
  {
   "cell_type": "markdown",
   "metadata": {},
   "source": [
    "Her alt dizinde dolaşın ve dosya yollarını ekleyin"
   ]
  },
  {
   "cell_type": "code",
   "execution_count": 5,
   "metadata": {},
   "outputs": [],
   "source": [
    "for subdirectory in subdirectories:\n",
    "    for root, dirs, files in os.walk(subdirectory):\n",
    "        for file in files:\n",
    "            if file.endswith(\".png\"):\n",
    "                file_path = os.path.join(root, file)\n",
    "                breast_img.append(file_path)"
   ]
  },
  {
   "cell_type": "code",
   "execution_count": 7,
   "metadata": {},
   "outputs": [],
   "source": [
    "import json\n",
    "with open('data.json', 'w') as f:\n",
    "    json.dump(breast_img, f)"
   ]
  },
  {
   "cell_type": "markdown",
   "metadata": {},
   "source": [
    "İlk birkaç dosyayı gösterin"
   ]
  },
  {
   "cell_type": "code",
   "execution_count": null,
   "metadata": {},
   "outputs": [],
   "source": [
    "for imgname in breast_img[:3]:\n",
    "    print(imgname)"
   ]
  },
  {
   "cell_type": "markdown",
   "metadata": {},
   "source": [
    "In[35]:"
   ]
  },
  {
   "cell_type": "code",
   "execution_count": null,
   "metadata": {},
   "outputs": [],
   "source": [
    "non_can_img = []  # non-cancerous (kansersiz) listesi\n",
    "can_img = []  # cancerous (kanserli) listesi\n",
    "for img in breast_img:\n",
    "    if img[-5] == '0':\n",
    "        non_can_img.append(img)\n",
    "    elif img[-5] == '1':\n",
    "        can_img.append(img)"
   ]
  },
  {
   "cell_type": "code",
   "execution_count": null,
   "metadata": {},
   "outputs": [],
   "source": [
    "non_can_num = len(non_can_img)  # No cancer\n",
    "can_num = len(can_img)  # Cancer"
   ]
  },
  {
   "cell_type": "code",
   "execution_count": null,
   "metadata": {},
   "outputs": [],
   "source": [
    "total_img_num = non_can_num + can_num"
   ]
  },
  {
   "cell_type": "code",
   "execution_count": null,
   "metadata": {},
   "outputs": [],
   "source": [
    "print('Number of Images of no cancer: {}'.format(non_can_num))\n",
    "print('Number of Images of cancer : {}'.format(can_num))\n",
    "print('Total Number of Images : {}'.format(total_img_num))"
   ]
  },
  {
   "cell_type": "markdown",
   "metadata": {},
   "source": [
    "In[36]:"
   ]
  },
  {
   "cell_type": "markdown",
   "metadata": {},
   "source": [
    "listelerinden rastgele örnekler alır"
   ]
  },
  {
   "cell_type": "code",
   "execution_count": null,
   "metadata": {},
   "outputs": [],
   "source": [
    "max_samples = 20000  # zamandan tasrruf için örnek sayısını sınırladık\n",
    "some_non_img = random.sample(non_can_img, min(len(non_can_img), max_samples))  # kansersiz görüntülerin dosya yolu\n",
    "some_can_img = random.sample(can_img, min(len(can_img), max_samples))  # kanserli görüntülerin dosya yolu"
   ]
  },
  {
   "cell_type": "code",
   "execution_count": null,
   "metadata": {},
   "outputs": [],
   "source": [
    "non_img_arr = []\n",
    "can_img_arr = []"
   ]
  },
  {
   "cell_type": "markdown",
   "metadata": {},
   "source": [
    "Her iki kategoriye ait görüntüleri küçültür ve renkli görüntüleri siyah-beyaz formatına dönüştürür.<br>\n",
    "Her bir görüntüyü (50x50 piksel boyutunda) içeren bir liste oluşturur ve bu listeye etiketi (0 veya 1) ekler."
   ]
  },
  {
   "cell_type": "code",
   "execution_count": null,
   "metadata": {},
   "outputs": [],
   "source": [
    "for img in some_non_img:  # kansersiz görüntülerin işlenmesi başlar.\n",
    "    n_img = cv2.imread(img, cv2.IMREAD_COLOR)  # OpenCV kullanılarak resim dosyası okunur.\n",
    "    n_img_size = cv2.resize(n_img, (50, 50),\n",
    "                            interpolation=cv2.INTER_LINEAR)  # Okunan resim, 50x50 piksel boyutuna küçültülür\n",
    "    non_img_arr.append([n_img_size, 0])  # Küçültülen resim, etiketi (0) ile birlikte non_img_arr listesine eklenir.\n",
    "    confusion_matrix\n",
    "for img in some_can_img:  # kanserli görüntülerin işlenmesi başlar.\n",
    "    c_img = cv2.imread(img, cv2.IMREAD_COLOR)\n",
    "    c_img_size = cv2.resize(c_img, (50, 50), interpolation=cv2.INTER_LINEAR)\n",
    "    can_img_arr.append([c_img_size, 1])"
   ]
  },
  {
   "cell_type": "markdown",
   "metadata": {},
   "source": [
    "Listeler birleştirelim"
   ]
  },
  {
   "cell_type": "code",
   "execution_count": null,
   "metadata": {},
   "outputs": [],
   "source": [
    "breast_img_arr = non_img_arr + can_img_arr\n",
    "random.shuffle(\n",
    "    breast_img_arr)  # Birleştirilen liste karıştırılır.Bu, öğrenme algoritmalarına eğitim verilerini daha iyi sunmak için önemlidir."
   ]
  },
  {
   "cell_type": "markdown",
   "metadata": {},
   "source": [
    "In[37]:"
   ]
  },
  {
   "cell_type": "code",
   "execution_count": null,
   "metadata": {},
   "outputs": [],
   "source": [
    "X = []\n",
    "y = []"
   ]
  },
  {
   "cell_type": "markdown",
   "metadata": {},
   "source": [
    "özellik ve etiket için listeden örnek döndürelim."
   ]
  },
  {
   "cell_type": "code",
   "execution_count": null,
   "metadata": {},
   "outputs": [],
   "source": [
    "for feature, label in breast_img_arr:\n",
    "    X.append(feature)\n",
    "    y.append(label)"
   ]
  },
  {
   "cell_type": "markdown",
   "metadata": {},
   "source": [
    " NumPy dizilerine dönüştürelim."
   ]
  },
  {
   "cell_type": "code",
   "execution_count": null,
   "metadata": {},
   "outputs": [],
   "source": [
    "X = np.array(X)\n",
    "y = np.array(y)"
   ]
  },
  {
   "cell_type": "markdown",
   "metadata": {},
   "source": [
    "verinin %20'sinin test setine ayrılsın."
   ]
  },
  {
   "cell_type": "code",
   "execution_count": null,
   "metadata": {},
   "outputs": [],
   "source": [
    "X_train, X_test, y_train, y_test = train_test_split(X, y, test_size=0.20, random_state=42)"
   ]
  },
  {
   "cell_type": "markdown",
   "metadata": {},
   "source": [
    "Bir azaltma (downsampling) oranı belirlenir. num değişkeni, oran ile çarpılarak eğitim verisinin boyutunu belirler."
   ]
  },
  {
   "cell_type": "code",
   "execution_count": null,
   "metadata": {},
   "outputs": [],
   "source": [
    "rate = 0.5\n",
    "num = int(X.shape[0] * rate)"
   ]
  },
  {
   "cell_type": "markdown",
   "metadata": {},
   "source": [
    "Etiketler one-hot encoding'e dönüştür"
   ]
  },
  {
   "cell_type": "code",
   "execution_count": null,
   "metadata": {},
   "outputs": [],
   "source": [
    "y_train = to_categorical(y_train, 2)\n",
    "y_test = to_categorical(y_test, 2)"
   ]
  },
  {
   "cell_type": "code",
   "execution_count": null,
   "metadata": {},
   "outputs": [],
   "source": [
    "print('X_train shape : {}'.format(X_train.shape))\n",
    "print('X_test shape : {}'.format(X_test.shape))\n",
    "print('y_train shape : {}'.format(y_train.shape))\n",
    "print('y_test shape : {}'.format(y_test.shape))"
   ]
  },
  {
   "cell_type": "markdown",
   "metadata": {},
   "source": [
    "## CNN-breast histopathology dataset"
   ]
  },
  {
   "cell_type": "markdown",
   "metadata": {},
   "source": [
    "In[38]:"
   ]
  },
  {
   "cell_type": "code",
   "execution_count": null,
   "metadata": {},
   "outputs": [],
   "source": [
    "from tensorflow.keras.layers import Conv2D, MaxPooling2D, Flatten, Dense, Dropout"
   ]
  },
  {
   "cell_type": "markdown",
   "metadata": {},
   "source": [
    "Veriyi artırma için ImageDataGenerator"
   ]
  },
  {
   "cell_type": "code",
   "execution_count": null,
   "metadata": {},
   "outputs": [],
   "source": [
    "datagen = tf.keras.preprocessing.image.ImageDataGenerator(\n",
    "    rotation_range=20,\n",
    "    width_shift_range=0.2,\n",
    "    height_shift_range=0.2,\n",
    "    shear_range=0.2,\n",
    "    zoom_range=0.2,\n",
    "    horizontal_flip=True,\n",
    "    fill_mode='nearest'\n",
    ")"
   ]
  },
  {
   "cell_type": "markdown",
   "metadata": {},
   "source": [
    "Yeni modeli oluşturun"
   ]
  },
  {
   "cell_type": "code",
   "execution_count": null,
   "metadata": {},
   "outputs": [],
   "source": [
    "model_cnn = Sequential([\n",
    "    Conv2D(32, (3, 3), activation='relu', input_shape=(50, 50, 3)),\n",
    "    MaxPooling2D((2, 2)),\n",
    "    Conv2D(64, (3, 3), activation='relu'),\n",
    "    MaxPooling2D((2, 2)),\n",
    "    Conv2D(128, (3, 3), activation='relu'),\n",
    "    MaxPooling2D((2, 2)),\n",
    "    Flatten(),\n",
    "    Dense(128, activation='relu'),\n",
    "    Dropout(0.2),\n",
    "    Dense(2, activation='softmax')\n",
    "])"
   ]
  },
  {
   "cell_type": "markdown",
   "metadata": {},
   "source": [
    "Modeli derleme"
   ]
  },
  {
   "cell_type": "code",
   "execution_count": null,
   "metadata": {},
   "outputs": [],
   "source": [
    "model_cnn.compile(optimizer='adam', loss='binary_crossentropy', metrics=['accuracy'])"
   ]
  },
  {
   "cell_type": "markdown",
   "metadata": {},
   "source": [
    "Erken durdurma için geri çağırma"
   ]
  },
  {
   "cell_type": "code",
   "execution_count": null,
   "metadata": {},
   "outputs": [],
   "source": [
    "early_stopping = EarlyStopping(monitor='val_loss', patience=10, restore_best_weights=True)"
   ]
  },
  {
   "cell_type": "markdown",
   "metadata": {},
   "source": [
    "Veri artırma ve modeli eğitme"
   ]
  },
  {
   "cell_type": "code",
   "execution_count": null,
   "metadata": {},
   "outputs": [],
   "source": [
    "history_cnn = model_cnn.fit(datagen.flow(X_train, y_train, batch_size=75),\n",
    "                            validation_data=(X_test, y_test),\n",
    "                            epochs=25,\n",
    "                            callbacks=[early_stopping])"
   ]
  },
  {
   "cell_type": "markdown",
   "metadata": {},
   "source": [
    "Modeli değerlendirme"
   ]
  },
  {
   "cell_type": "code",
   "execution_count": null,
   "metadata": {},
   "outputs": [],
   "source": [
    "test_loss_cnn, test_accuracy_cnn = model_cnn.evaluate(X_test, y_test)\n",
    "print(f'Test Loss: {test_loss_cnn}, Test Accuracy: {test_accuracy_cnn}')"
   ]
  },
  {
   "cell_type": "markdown",
   "metadata": {},
   "source": [
    "Modeli kaydetme"
   ]
  },
  {
   "cell_type": "code",
   "execution_count": null,
   "metadata": {},
   "outputs": [],
   "source": [
    "model_cnn.save('model_breastHistoryDataset_Cnn.h5')\n",
    "print(\"CNN model saved to disk.\")"
   ]
  },
  {
   "cell_type": "markdown",
   "metadata": {},
   "source": [
    "Modeli yükleyerek tahmin yapma"
   ]
  },
  {
   "cell_type": "code",
   "execution_count": null,
   "metadata": {},
   "outputs": [],
   "source": [
    "loaded_model_cnn = tf.keras.models.load_model('model_breastHistoryDataset_Cnn.h5')\n",
    "predictions_cnn = loaded_model_cnn.predict(X_test)"
   ]
  },
  {
   "cell_type": "markdown",
   "metadata": {},
   "source": [
    "## EfficientNetB0 - breast histopathology dataset"
   ]
  },
  {
   "cell_type": "markdown",
   "metadata": {},
   "source": [
    "In[39]:"
   ]
  },
  {
   "cell_type": "markdown",
   "metadata": {},
   "source": [
    "Veriyi artırma için ImageDataGenerator"
   ]
  },
  {
   "cell_type": "code",
   "execution_count": null,
   "metadata": {},
   "outputs": [],
   "source": [
    "datagen = tf.keras.preprocessing.image.ImageDataGenerator(\n",
    "    rotation_range=20,\n",
    "    width_shift_range=0.2,\n",
    "    height_shift_range=0.2,\n",
    "    shear_range=0.2,\n",
    "    zoom_range=0.2,\n",
    "    horizontal_flip=True,\n",
    "    fill_mode='nearest'\n",
    ")"
   ]
  },
  {
   "cell_type": "code",
   "execution_count": null,
   "metadata": {},
   "outputs": [],
   "source": [
    "base_model = EfficientNetB0(include_top=False, weights='imagenet', input_shape=(50, 50, 3))\n",
    "base_model.trainable = False  # Transfer learning için önceden eğitilmiş ağırlıkları dondurun"
   ]
  },
  {
   "cell_type": "markdown",
   "metadata": {},
   "source": [
    "Yeni modeli oluşturun"
   ]
  },
  {
   "cell_type": "code",
   "execution_count": null,
   "metadata": {},
   "outputs": [],
   "source": [
    "model_efficientnetb0 = tf.keras.Sequential([\n",
    "    base_model,\n",
    "    tf.keras.layers.GlobalAveragePooling2D(),\n",
    "    tf.keras.layers.Dense(128, activation='relu'),\n",
    "    tf.keras.layers.Dropout(0.2),\n",
    "    tf.keras.layers.Dense(2, activation='softmax')\n",
    "])"
   ]
  },
  {
   "cell_type": "markdown",
   "metadata": {},
   "source": [
    "Learning rate scheduler"
   ]
  },
  {
   "cell_type": "code",
   "execution_count": null,
   "metadata": {},
   "outputs": [],
   "source": [
    "lr_schedule = tf.keras.optimizers.schedules.ExponentialDecay(\n",
    "    initial_learning_rate=0.001,\n",
    "    decay_steps=10000,\n",
    "    decay_rate=0.9\n",
    ")\n",
    "optimizer = tf.keras.optimizers.Adam(learning_rate=lr_schedule)"
   ]
  },
  {
   "cell_type": "markdown",
   "metadata": {},
   "source": [
    "Modeli derleme"
   ]
  },
  {
   "cell_type": "code",
   "execution_count": null,
   "metadata": {},
   "outputs": [],
   "source": [
    "model_efficientnetb0.compile(optimizer=optimizer, loss='binary_crossentropy', metrics=['accuracy'])"
   ]
  },
  {
   "cell_type": "markdown",
   "metadata": {},
   "source": [
    "Erken durdurma için geri çağırma"
   ]
  },
  {
   "cell_type": "code",
   "execution_count": null,
   "metadata": {},
   "outputs": [],
   "source": [
    "early_stopping = EarlyStopping(monitor='val_loss', patience=10, restore_best_weights=True)"
   ]
  },
  {
   "cell_type": "markdown",
   "metadata": {},
   "source": [
    "Veri artırma ve modeli eğitme"
   ]
  },
  {
   "cell_type": "code",
   "execution_count": null,
   "metadata": {},
   "outputs": [],
   "source": [
    "history_efficientnetb0 = model_efficientnetb0.fit(datagen.flow(X_train, y_train, batch_size=75),\n",
    "                                                  validation_data=(X_test, y_test),\n",
    "                                                  epochs=25,\n",
    "                                                  callbacks=[early_stopping])"
   ]
  },
  {
   "cell_type": "markdown",
   "metadata": {},
   "source": [
    "Modeli değerlendirme"
   ]
  },
  {
   "cell_type": "code",
   "execution_count": null,
   "metadata": {},
   "outputs": [],
   "source": [
    "test_loss_efficientnetb0, test_accuracy_efficientnetb0 = model_efficientnetb0.evaluate(X_test, y_test)\n",
    "print(f'Test Loss: {test_loss_efficientnetb0}, Test Accuracy: {test_accuracy_efficientnetb0}')"
   ]
  },
  {
   "cell_type": "markdown",
   "metadata": {},
   "source": [
    "Modeli kaydetme"
   ]
  },
  {
   "cell_type": "code",
   "execution_count": null,
   "metadata": {},
   "outputs": [],
   "source": [
    "model_efficientnetb0.save('model_breastHistoryDataset_efficientnetb0.h5')\n",
    "print(\"EfficientNetB0 model saved to disk.\")"
   ]
  },
  {
   "cell_type": "markdown",
   "metadata": {},
   "source": [
    "Modeli yükleyerek tahmin yapma"
   ]
  },
  {
   "cell_type": "code",
   "execution_count": null,
   "metadata": {},
   "outputs": [],
   "source": [
    "loaded_model_efficientnetb0 = tf.keras.models.load_model('model_breastHistoryDataset_efficientnetb0.h5')\n",
    "predictions_efficientnetb0 = loaded_model_efficientnetb0.predict(X_test)"
   ]
  },
  {
   "cell_type": "markdown",
   "metadata": {},
   "source": [
    "## DenseNet121 - breast histopathology dataset"
   ]
  },
  {
   "cell_type": "markdown",
   "metadata": {},
   "source": [
    "In[40]:"
   ]
  },
  {
   "cell_type": "code",
   "execution_count": null,
   "metadata": {},
   "outputs": [],
   "source": [
    "from tensorflow.keras.applications import DenseNet121\n",
    "from tensorflow.keras.callbacks import EarlyStopping"
   ]
  },
  {
   "cell_type": "markdown",
   "metadata": {},
   "source": [
    "Veriyi artırma için ImageDataGenerator"
   ]
  },
  {
   "cell_type": "code",
   "execution_count": null,
   "metadata": {},
   "outputs": [],
   "source": [
    "datagen = tf.keras.preprocessing.image.ImageDataGenerator(\n",
    "    rotation_range=20,\n",
    "    width_shift_range=0.2,\n",
    "    height_shift_range=0.2,\n",
    "    shear_range=0.2,\n",
    "    zoom_range=0.2,\n",
    "    horizontal_flip=True,\n",
    "    fill_mode='nearest'\n",
    ")"
   ]
  },
  {
   "cell_type": "code",
   "execution_count": null,
   "metadata": {},
   "outputs": [],
   "source": [
    "base_model = DenseNet121(include_top=False, weights='imagenet', input_shape=(50, 50, 3))\n",
    "base_model.trainable = False  # Transfer learning için önceden eğitilmiş ağırlıkları dondurun"
   ]
  },
  {
   "cell_type": "markdown",
   "metadata": {},
   "source": [
    "Yeni modeli oluşturun"
   ]
  },
  {
   "cell_type": "code",
   "execution_count": null,
   "metadata": {},
   "outputs": [],
   "source": [
    "model_densenet121 = tf.keras.Sequential([\n",
    "    base_model,\n",
    "    tf.keras.layers.GlobalAveragePooling2D(),\n",
    "    tf.keras.layers.Dense(128, activation='relu'),\n",
    "    tf.keras.layers.Dropout(0.2),\n",
    "    tf.keras.layers.Dense(2, activation='softmax')\n",
    "])"
   ]
  },
  {
   "cell_type": "markdown",
   "metadata": {},
   "source": [
    "Learning rate scheduler"
   ]
  },
  {
   "cell_type": "code",
   "execution_count": null,
   "metadata": {},
   "outputs": [],
   "source": [
    "lr_schedule = tf.keras.optimizers.schedules.ExponentialDecay(\n",
    "    initial_learning_rate=0.001,\n",
    "    decay_steps=10000,\n",
    "    decay_rate=0.9\n",
    ")\n",
    "optimizer = tf.keras.optimizers.Adam(learning_rate=lr_schedule)"
   ]
  },
  {
   "cell_type": "markdown",
   "metadata": {},
   "source": [
    "Modeli derleme"
   ]
  },
  {
   "cell_type": "code",
   "execution_count": null,
   "metadata": {},
   "outputs": [],
   "source": [
    "model_densenet121.compile(optimizer=optimizer, loss='binary_crossentropy', metrics=['accuracy'])"
   ]
  },
  {
   "cell_type": "markdown",
   "metadata": {},
   "source": [
    "Erken durdurma için geri çağırma"
   ]
  },
  {
   "cell_type": "code",
   "execution_count": null,
   "metadata": {},
   "outputs": [],
   "source": [
    "early_stopping = EarlyStopping(monitor='val_loss', patience=10, restore_best_weights=True)"
   ]
  },
  {
   "cell_type": "markdown",
   "metadata": {},
   "source": [
    "Veri artırma ve modeli eğitme"
   ]
  },
  {
   "cell_type": "code",
   "execution_count": null,
   "metadata": {},
   "outputs": [],
   "source": [
    "history_densenet121 = model_densenet121.fit(datagen.flow(X_train, y_train, batch_size=75),\n",
    "                                            validation_data=(X_test, y_test),\n",
    "                                            epochs=25,\n",
    "                                            callbacks=[early_stopping])"
   ]
  },
  {
   "cell_type": "markdown",
   "metadata": {},
   "source": [
    "Modeli değerlendirme"
   ]
  },
  {
   "cell_type": "code",
   "execution_count": null,
   "metadata": {},
   "outputs": [],
   "source": [
    "test_loss_densenet121, test_accuracy_densenet121 = model_densenet121.evaluate(X_test, y_test)\n",
    "print(f'Test Loss: {test_loss_densenet121}, Test Accuracy: {test_accuracy_densenet121}')"
   ]
  },
  {
   "cell_type": "markdown",
   "metadata": {},
   "source": [
    "Modeli kaydetme"
   ]
  },
  {
   "cell_type": "code",
   "execution_count": null,
   "metadata": {},
   "outputs": [],
   "source": [
    "model_densenet121.save('model_breastHistoryDataset_densenet121.h5')\n",
    "print(\"DenseNet121 model saved to disk.\")"
   ]
  },
  {
   "cell_type": "markdown",
   "metadata": {},
   "source": [
    "Modeli yükleyerek tahmin yapma"
   ]
  },
  {
   "cell_type": "code",
   "execution_count": null,
   "metadata": {},
   "outputs": [],
   "source": [
    "loaded_model_densenet121 = tf.keras.models.load_model('model_breastHistoryDataset_densenet121.h5')\n",
    "predictions_densenet121 = loaded_model_densenet121.predict(X_test)"
   ]
  },
  {
   "cell_type": "markdown",
   "metadata": {},
   "source": [
    "# Karışıklık matrisi (confusion matrix)<br>\n",
    "Şimdi de model_breastHistoryDataset_cnnin test verisi üzerindeki tahminlerini kullanarak bir karışıklık matrisi (confusion matrix) oluşturalım. Bu matrisi de ısı haritası şeklinde görselleştirelim."
   ]
  },
  {
   "cell_type": "markdown",
   "metadata": {},
   "source": [
    "In[41]:"
   ]
  },
  {
   "cell_type": "code",
   "execution_count": null,
   "metadata": {},
   "outputs": [],
   "source": [
    "Y_pred = model_cnn.predict(X_test)\n",
    "Y_pred_classes = np.argmax(Y_pred, axis=1)\n",
    "Y_true = np.argmax(y_test, axis=1)"
   ]
  },
  {
   "cell_type": "code",
   "execution_count": null,
   "metadata": {},
   "outputs": [],
   "source": [
    "confusion_mtx = confusion_matrix(Y_true, Y_pred_classes)\n",
    "f, ax = plt.subplots(figsize=(8, 8))\n",
    "sns.heatmap(confusion_mtx, annot=True, linewidths=0.01, cmap=\"BuPu\", linecolor=\"gray\", fmt='.1f', ax=ax)\n",
    "plt.xlabel(\"Predicted Label\")\n",
    "plt.ylabel(\"True Label\")\n",
    "plt.title(\"Confusion Matrix\")\n",
    "plt.show()"
   ]
  },
  {
   "cell_type": "markdown",
   "metadata": {},
   "source": [
    "In[42]:"
   ]
  },
  {
   "cell_type": "code",
   "execution_count": null,
   "metadata": {},
   "outputs": [],
   "source": [
    "plt.plot(history.history['accuracy'])\n",
    "plt.plot(history.history['val_accuracy'])\n",
    "plt.title('model_breastHistoryDataset_cnn Accuracy')\n",
    "plt.xlabel('epoch')\n",
    "plt.ylabel('accuracy')\n",
    "plt.legend(['train', 'test'], loc='upper left')\n",
    "plt.show()"
   ]
  },
  {
   "cell_type": "code",
   "execution_count": null,
   "metadata": {},
   "outputs": [],
   "source": [
    "plt.plot(history.history['loss'])\n",
    "plt.plot(history.history['val_loss'])\n",
    "plt.title('model_breastHistoryDataset_cnn Loss')\n",
    "plt.xlabel('epoch')\n",
    "plt.ylabel('loss')\n",
    "plt.legend(['train', 'test'], loc='upper left')\n",
    "plt.show()"
   ]
  },
  {
   "cell_type": "markdown",
   "metadata": {},
   "source": [
    "In[43]:"
   ]
  },
  {
   "cell_type": "code",
   "execution_count": null,
   "metadata": {},
   "outputs": [],
   "source": [
    "from sklearn.metrics import accuracy_score, confusion_matrix"
   ]
  },
  {
   "cell_type": "markdown",
   "metadata": {},
   "source": [
    "Y_pred = model_breastHistoryDataset_cnn.predict(X_test)"
   ]
  },
  {
   "cell_type": "code",
   "execution_count": null,
   "metadata": {},
   "outputs": [],
   "source": [
    "Y_pred_classes = np.argmax(Y_pred, axis=1)\n",
    "Y_true = np.argmax(y_test, axis=1)"
   ]
  },
  {
   "cell_type": "code",
   "execution_count": null,
   "metadata": {},
   "outputs": [],
   "source": [
    "confusion_mtx = confusion_matrix(Y_true, Y_pred_classes)"
   ]
  },
  {
   "cell_type": "markdown",
   "metadata": {},
   "source": [
    "calculate the percentage"
   ]
  },
  {
   "cell_type": "code",
   "execution_count": null,
   "metadata": {},
   "outputs": [],
   "source": [
    "confusion_mtx_percent = confusion_mtx.astype('float') / confusion_mtx.sum(axis=1)[:, np.newaxis] * 100"
   ]
  },
  {
   "cell_type": "code",
   "execution_count": null,
   "metadata": {},
   "outputs": [],
   "source": [
    "f, ax = plt.subplots(figsize=(8, 5))\n",
    "sns.heatmap(confusion_mtx_percent, annot=True, linewidths=0.01, cmap=\"BuPu\", linecolor=\"gray\", fmt='.1f', ax=ax)\n",
    "plt.xlabel(\"Predicted Label\")\n",
    "plt.ylabel(\"True Label\")\n",
    "plt.title(\"Confusion Matrix (Percentage)\")\n",
    "plt.show()"
   ]
  },
  {
   "cell_type": "markdown",
   "metadata": {},
   "source": [
    "# Testing the Model"
   ]
  },
  {
   "cell_type": "markdown",
   "metadata": {},
   "source": [
    "Define a mapping of class indices to human-readable labels"
   ]
  },
  {
   "cell_type": "code",
   "execution_count": null,
   "metadata": {},
   "outputs": [],
   "source": [
    "class_labels = {\n",
    "    0: 'Non-Cancerous',\n",
    "    1: 'Cancerous',\n",
    "}"
   ]
  },
  {
   "cell_type": "markdown",
   "metadata": {},
   "source": [
    "Define a mapping of calcification types"
   ]
  },
  {
   "cell_type": "code",
   "execution_count": null,
   "metadata": {},
   "outputs": [],
   "source": [
    "calcification_types = {\n",
    "    0: 'No Calcification',\n",
    "    1: 'PLEOMORPHIC',\n",
    "    2: 'AMORPHOUS',\n",
    "    3: 'PUNCTATE',\n",
    "    4: 'LUCENT_CENTER',\n",
    "    5: 'VASCULAR',\n",
    "    6: 'FINE_LINEAR_BRANCHING',\n",
    "    7: 'COARSE',\n",
    "    8: 'ROUND_AND_REGULAR-LUCENT_CENTER',\n",
    "    9: 'PLEOMORPHIC-FINE_LINEAR_BRANCHING',\n",
    "    10: 'ROUND_AND_REGULAR-LUCENT_CENTER-PUNCTATE',\n",
    "    11: 'ROUND_AND_REGULAR-EGGSHELL',\n",
    "    12: 'PUNCTATE-PLEOMORPHIC',\n",
    "    13: 'DYSTROPHIC',\n",
    "    14: 'LUCENT_CENTERED',\n",
    "    15: 'ROUND_AND_REGULAR-LUCENT_CENTER-DYSTROPHIC',\n",
    "    16: 'ROUND_AND_REGULAR',\n",
    "    17: 'ROUND_AND_REGULAR-LUCENT_CENTERED',\n",
    "    18: 'AMORPHOUS-PLEOMORPHIC',\n",
    "    19: 'LARGE_RODLIKE-ROUND_AND_REGULAR',\n",
    "    20: 'PUNCTATE-AMORPHOUS',\n",
    "    21: 'COARSE-ROUND_AND_REGULAR-LUCENT_CENTER',\n",
    "    22: 'VASCULAR-COARSE-LUCENT_CENTERED',\n",
    "    23: 'LUCENT_CENTER-PUNCTATE',\n",
    "    24: 'ROUND_AND_REGULAR-PLEOMORPHIC',\n",
    "    25: 'EGGSHELL',\n",
    "    26: 'PUNCTATE-FINE_LINEAR_BRANCHING',\n",
    "    27: 'VASCULAR-COARSE',\n",
    "    28: 'ROUND_AND_REGULAR-PUNCTATE',\n",
    "    29: 'SKIN-PUNCTATE-ROUND_AND_REGULAR',\n",
    "    30: 'SKIN-PUNCTATE',\n",
    "    31: 'COARSE-ROUND_AND_REGULAR-LUCENT_CENTERED',\n",
    "    32: 'PUNCTATE-ROUND_AND_REGULAR',\n",
    "    33: 'LARGE_RODLIKE',\n",
    "    34: 'AMORPHOUS-ROUND_AND_REGULAR',\n",
    "    35: 'PUNCTATE-LUCENT_CENTER',\n",
    "    36: 'SKIN',\n",
    "    37: 'VASCULAR-COARSE-LUCENT_CENTER-ROUND_AND_REGULA',\n",
    "    38: 'COARSE-PLEOMORPHIC',\n",
    "    39: 'ROUND_AND_REGULAR-PUNCTATE-AMORPHOUS',\n",
    "    40: 'COARSE-LUCENT_CENTER',\n",
    "    41: 'MILK_OF_CALCIUM',\n",
    "    42: 'COARSE-ROUND_AND_REGULAR',\n",
    "    43: 'SKIN-COARSE-ROUND_AND_REGULAR',\n",
    "    44: 'ROUND_AND_REGULAR-AMORPHOUS',\n",
    "    45: 'PLEOMORPHIC-PLEOMORPHIC'\n",
    "}"
   ]
  },
  {
   "cell_type": "markdown",
   "metadata": {},
   "source": [
    "Define a function for plotting an image from an array"
   ]
  },
  {
   "cell_type": "code",
   "execution_count": null,
   "metadata": {},
   "outputs": [],
   "source": [
    "def img_plot(arr, index=0):\n",
    "    # Set the title for the plot\n",
    "    plt.title('Test Image')\n",
    "\n",
    "    # Display the image at the specified index in the array\n",
    "    plt.imshow(arr[index])"
   ]
  },
  {
   "cell_type": "markdown",
   "metadata": {},
   "source": [
    "Set the index value to 90"
   ]
  },
  {
   "cell_type": "code",
   "execution_count": null,
   "metadata": {},
   "outputs": [],
   "source": [
    "index = 90"
   ]
  },
  {
   "cell_type": "markdown",
   "metadata": {},
   "source": [
    "Plot an image from the X_test array using the img_plot function"
   ]
  },
  {
   "cell_type": "code",
   "execution_count": null,
   "metadata": {},
   "outputs": [],
   "source": [
    "img_plot(X_test, index)"
   ]
  },
  {
   "cell_type": "markdown",
   "metadata": {},
   "source": [
    "Extract a single image from X_test based on the specified index"
   ]
  },
  {
   "cell_type": "code",
   "execution_count": null,
   "metadata": {},
   "outputs": [],
   "source": [
    "input = X_test[index:index + 1]"
   ]
  },
  {
   "cell_type": "markdown",
   "metadata": {},
   "source": [
    "Make a prediction using the CNN model and get the class with the highest probability"
   ]
  },
  {
   "cell_type": "code",
   "execution_count": null,
   "metadata": {},
   "outputs": [],
   "source": [
    "predicted_class_index = loaded_model_cnn.predict(input)[0].argmax()"
   ]
  },
  {
   "cell_type": "markdown",
   "metadata": {},
   "source": [
    "Get the true label from the y_test array"
   ]
  },
  {
   "cell_type": "code",
   "execution_count": null,
   "metadata": {},
   "outputs": [],
   "source": [
    "true_class_index = y_test[index].argmax()"
   ]
  },
  {
   "cell_type": "markdown",
   "metadata": {},
   "source": [
    "Get the predicted and true labels"
   ]
  },
  {
   "cell_type": "code",
   "execution_count": null,
   "metadata": {},
   "outputs": [],
   "source": [
    "predicted_label = class_labels[predicted_class_index]\n",
    "true_label = class_labels[true_class_index]"
   ]
  },
  {
   "cell_type": "markdown",
   "metadata": {},
   "source": [
    "Get the calcification type based on the predicted class index (modify as needed)"
   ]
  },
  {
   "cell_type": "code",
   "execution_count": null,
   "metadata": {},
   "outputs": [],
   "source": [
    "calcification_type = calcification_types[predicted_class_index]"
   ]
  },
  {
   "cell_type": "markdown",
   "metadata": {},
   "source": [
    "Print the prediction result with calcification type"
   ]
  },
  {
   "cell_type": "code",
   "execution_count": null,
   "metadata": {},
   "outputs": [],
   "source": [
    "print('Predicted Diagnosis:', predicted_label)\n",
    "print('Calcification Type:', calcification_type)\n",
    "print('True Diagnosis:', true_label)"
   ]
  }
 ],
 "metadata": {
  "kernelspec": {
   "display_name": "Python 3 (ipykernel)",
   "language": "python",
   "name": "python3"
  },
  "language_info": {
   "codemirror_mode": {
    "name": "ipython",
    "version": 3
   },
   "file_extension": ".py",
   "mimetype": "text/x-python",
   "name": "python",
   "nbconvert_exporter": "python",
   "pygments_lexer": "ipython3",
   "version": "3.10.12"
  }
 },
 "nbformat": 4,
 "nbformat_minor": 4
}
